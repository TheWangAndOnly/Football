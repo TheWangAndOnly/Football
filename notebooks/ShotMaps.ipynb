{
 "cells": [
  {
   "cell_type": "markdown",
   "id": "4513f26a-3e0c-4399-8b38-e1a4acdcc032",
   "metadata": {},
   "source": [
    "# Brazil 1 - 2 Belgium World Cup 2018 QF"
   ]
  },
  {
   "cell_type": "markdown",
   "id": "ded33c7a-5c4a-452b-8c20-f1097d5f4a2d",
   "metadata": {},
   "source": [
    "[Scatter mlpsoccer](https://mplsoccer.readthedocs.io/en/latest/gallery/pitch_plots/plot_scatter.html)"
   ]
  },
  {
   "cell_type": "code",
   "execution_count": 13,
   "id": "46a8c9e3-10b6-402c-9705-7dc1209e9118",
   "metadata": {},
   "outputs": [],
   "source": [
    "import numpy as np\n",
    "from matplotlib import cm\n",
    "import matplotlib.pyplot as plt\n",
    "from matplotlib.colors import ListedColormap\n",
    "\n",
    "from mplsoccer import VerticalPitch, Pitch\n",
    "from mplsoccer.cm import create_transparent_cmap\n",
    "from mplsoccer.scatterutils import arrowhead_marker\n",
    "from mplsoccer.statsbomb import read_event, EVENT_SLUG\n",
    "from mplsoccer.utils import FontManager\n",
    "from statsbombpy import sb"
   ]
  },
  {
   "cell_type": "code",
   "execution_count": 2,
   "id": "504eeff2-e313-4f38-9154-802bf00f1bc9",
   "metadata": {},
   "outputs": [
    {
     "name": "stdout",
     "output_type": "stream",
     "text": [
      "credentials were not supplied. open data access only\n"
     ]
    }
   ],
   "source": [
    "matches = sb.matches(43,3)"
   ]
  },
  {
   "cell_type": "code",
   "execution_count": 3,
   "id": "e5387eea-fa11-43b1-9c59-152b588cfb43",
   "metadata": {},
   "outputs": [
    {
     "data": {
      "text/html": [
       "<div>\n",
       "<style scoped>\n",
       "    .dataframe tbody tr th:only-of-type {\n",
       "        vertical-align: middle;\n",
       "    }\n",
       "\n",
       "    .dataframe tbody tr th {\n",
       "        vertical-align: top;\n",
       "    }\n",
       "\n",
       "    .dataframe thead th {\n",
       "        text-align: right;\n",
       "    }\n",
       "</style>\n",
       "<table border=\"1\" class=\"dataframe\">\n",
       "  <thead>\n",
       "    <tr style=\"text-align: right;\">\n",
       "      <th></th>\n",
       "      <th>match_id</th>\n",
       "      <th>match_date</th>\n",
       "      <th>kick_off</th>\n",
       "      <th>competition</th>\n",
       "      <th>season</th>\n",
       "      <th>home_team</th>\n",
       "      <th>away_team</th>\n",
       "      <th>home_score</th>\n",
       "      <th>away_score</th>\n",
       "      <th>match_status</th>\n",
       "      <th>match_status_360</th>\n",
       "      <th>last_updated</th>\n",
       "      <th>last_updated_360</th>\n",
       "      <th>match_week</th>\n",
       "      <th>competition_stage</th>\n",
       "      <th>stadium</th>\n",
       "      <th>referee</th>\n",
       "      <th>data_version</th>\n",
       "      <th>shot_fidelity_version</th>\n",
       "      <th>xy_fidelity_version</th>\n",
       "    </tr>\n",
       "  </thead>\n",
       "  <tbody>\n",
       "    <tr>\n",
       "      <th>3</th>\n",
       "      <td>7536</td>\n",
       "      <td>2018-06-18</td>\n",
       "      <td>17:00:00.000</td>\n",
       "      <td>International - FIFA World Cup</td>\n",
       "      <td>2018</td>\n",
       "      <td>Belgium</td>\n",
       "      <td>Panama</td>\n",
       "      <td>3</td>\n",
       "      <td>0</td>\n",
       "      <td>available</td>\n",
       "      <td>scheduled</td>\n",
       "      <td>2021-12-06T22:40:10.487423</td>\n",
       "      <td>2021-06-13T16:17:31.694</td>\n",
       "      <td>1</td>\n",
       "      <td>Group Stage</td>\n",
       "      <td>Olimpiyskiy Stadion Fisht (Sochi)</td>\n",
       "      <td>Janny Sikazwe</td>\n",
       "      <td>1.0.2</td>\n",
       "      <td>None</td>\n",
       "      <td>None</td>\n",
       "    </tr>\n",
       "    <tr>\n",
       "      <th>14</th>\n",
       "      <td>8650</td>\n",
       "      <td>2018-07-06</td>\n",
       "      <td>20:00:00.000</td>\n",
       "      <td>International - FIFA World Cup</td>\n",
       "      <td>2018</td>\n",
       "      <td>Brazil</td>\n",
       "      <td>Belgium</td>\n",
       "      <td>1</td>\n",
       "      <td>2</td>\n",
       "      <td>available</td>\n",
       "      <td>scheduled</td>\n",
       "      <td>2020-07-29T05:00</td>\n",
       "      <td>2021-06-13T16:17:31.694</td>\n",
       "      <td>5</td>\n",
       "      <td>Quarter-finals</td>\n",
       "      <td>Kazan'' Arena (Kazan')</td>\n",
       "      <td>Milorad Mažić</td>\n",
       "      <td>1.0.2</td>\n",
       "      <td>None</td>\n",
       "      <td>None</td>\n",
       "    </tr>\n",
       "    <tr>\n",
       "      <th>29</th>\n",
       "      <td>7584</td>\n",
       "      <td>2018-07-02</td>\n",
       "      <td>20:00:00.000</td>\n",
       "      <td>International - FIFA World Cup</td>\n",
       "      <td>2018</td>\n",
       "      <td>Belgium</td>\n",
       "      <td>Japan</td>\n",
       "      <td>3</td>\n",
       "      <td>2</td>\n",
       "      <td>available</td>\n",
       "      <td>scheduled</td>\n",
       "      <td>2020-07-29T05:00</td>\n",
       "      <td>2021-06-13T16:17:31.694</td>\n",
       "      <td>4</td>\n",
       "      <td>Round of 16</td>\n",
       "      <td>Rostov Arena</td>\n",
       "      <td>Malang Diedhiou</td>\n",
       "      <td>1.0.2</td>\n",
       "      <td>None</td>\n",
       "      <td>None</td>\n",
       "    </tr>\n",
       "    <tr>\n",
       "      <th>36</th>\n",
       "      <td>7552</td>\n",
       "      <td>2018-06-23</td>\n",
       "      <td>14:00:00.000</td>\n",
       "      <td>International - FIFA World Cup</td>\n",
       "      <td>2018</td>\n",
       "      <td>Belgium</td>\n",
       "      <td>Tunisia</td>\n",
       "      <td>5</td>\n",
       "      <td>2</td>\n",
       "      <td>available</td>\n",
       "      <td>scheduled</td>\n",
       "      <td>2020-07-29T05:00</td>\n",
       "      <td>2021-06-13T16:17:31.694</td>\n",
       "      <td>2</td>\n",
       "      <td>Group Stage</td>\n",
       "      <td>Otkrytiye Arena (Moskva)</td>\n",
       "      <td>Jair Marrufo</td>\n",
       "      <td>1.0.2</td>\n",
       "      <td>None</td>\n",
       "      <td>None</td>\n",
       "    </tr>\n",
       "    <tr>\n",
       "      <th>50</th>\n",
       "      <td>7570</td>\n",
       "      <td>2018-06-28</td>\n",
       "      <td>20:00:00.000</td>\n",
       "      <td>International - FIFA World Cup</td>\n",
       "      <td>2018</td>\n",
       "      <td>England</td>\n",
       "      <td>Belgium</td>\n",
       "      <td>0</td>\n",
       "      <td>1</td>\n",
       "      <td>available</td>\n",
       "      <td>scheduled</td>\n",
       "      <td>2020-07-29T05:00</td>\n",
       "      <td>2021-06-13T16:17:31.694</td>\n",
       "      <td>3</td>\n",
       "      <td>Group Stage</td>\n",
       "      <td>Stadion Kaliningrad</td>\n",
       "      <td>Damir Skomina</td>\n",
       "      <td>1.0.2</td>\n",
       "      <td>None</td>\n",
       "      <td>None</td>\n",
       "    </tr>\n",
       "  </tbody>\n",
       "</table>\n",
       "</div>"
      ],
      "text/plain": [
       "    match_id  match_date      kick_off                     competition season  \\\n",
       "3       7536  2018-06-18  17:00:00.000  International - FIFA World Cup   2018   \n",
       "14      8650  2018-07-06  20:00:00.000  International - FIFA World Cup   2018   \n",
       "29      7584  2018-07-02  20:00:00.000  International - FIFA World Cup   2018   \n",
       "36      7552  2018-06-23  14:00:00.000  International - FIFA World Cup   2018   \n",
       "50      7570  2018-06-28  20:00:00.000  International - FIFA World Cup   2018   \n",
       "\n",
       "   home_team away_team  home_score  away_score match_status match_status_360  \\\n",
       "3    Belgium    Panama           3           0    available        scheduled   \n",
       "14    Brazil   Belgium           1           2    available        scheduled   \n",
       "29   Belgium     Japan           3           2    available        scheduled   \n",
       "36   Belgium   Tunisia           5           2    available        scheduled   \n",
       "50   England   Belgium           0           1    available        scheduled   \n",
       "\n",
       "                  last_updated         last_updated_360  match_week  \\\n",
       "3   2021-12-06T22:40:10.487423  2021-06-13T16:17:31.694           1   \n",
       "14            2020-07-29T05:00  2021-06-13T16:17:31.694           5   \n",
       "29            2020-07-29T05:00  2021-06-13T16:17:31.694           4   \n",
       "36            2020-07-29T05:00  2021-06-13T16:17:31.694           2   \n",
       "50            2020-07-29T05:00  2021-06-13T16:17:31.694           3   \n",
       "\n",
       "   competition_stage                            stadium          referee  \\\n",
       "3        Group Stage  Olimpiyskiy Stadion Fisht (Sochi)    Janny Sikazwe   \n",
       "14    Quarter-finals             Kazan'' Arena (Kazan')    Milorad Mažić   \n",
       "29       Round of 16                       Rostov Arena  Malang Diedhiou   \n",
       "36       Group Stage           Otkrytiye Arena (Moskva)     Jair Marrufo   \n",
       "50       Group Stage                Stadion Kaliningrad    Damir Skomina   \n",
       "\n",
       "   data_version shot_fidelity_version xy_fidelity_version  \n",
       "3         1.0.2                  None                None  \n",
       "14        1.0.2                  None                None  \n",
       "29        1.0.2                  None                None  \n",
       "36        1.0.2                  None                None  \n",
       "50        1.0.2                  None                None  "
      ]
     },
     "execution_count": 3,
     "metadata": {},
     "output_type": "execute_result"
    }
   ],
   "source": [
    "be_matches = matches[(matches['home_team'] == 'Belgium') | (matches['away_team'] == 'Belgium')]\n",
    "be_matches.head()"
   ]
  },
  {
   "cell_type": "code",
   "execution_count": 4,
   "id": "7210268f-e12d-4619-8d81-68209ce78cee",
   "metadata": {},
   "outputs": [
    {
     "name": "stdout",
     "output_type": "stream",
     "text": [
      "credentials were not supplied. open data access only\n"
     ]
    }
   ],
   "source": [
    "brz_bel = sb.events(8650)"
   ]
  },
  {
   "cell_type": "code",
   "execution_count": 5,
   "id": "d9330471-b8eb-4b7a-ab3a-dbf0dfa926c6",
   "metadata": {},
   "outputs": [],
   "source": [
    "shots = brz_bel[['team','minute', 'player', 'shot_end_location', 'shot_outcome', 'shot_statsbomb_xg']]"
   ]
  },
  {
   "cell_type": "code",
   "execution_count": 6,
   "id": "16d4cd78-63fe-4feb-8caf-97dfa60c1589",
   "metadata": {},
   "outputs": [],
   "source": [
    "shots = shots.dropna()"
   ]
  },
  {
   "cell_type": "code",
   "execution_count": 9,
   "id": "61c093de-2e3f-414e-a22b-ba377082b302",
   "metadata": {},
   "outputs": [],
   "source": [
    "def get_numeric_shots(df):\n",
    "    \n",
    "    df['x'] = [i[0] for i in df['shot_end_location'].values]\n",
    "    df['y'] = [i[1] for i in df['shot_end_location'].values] \n",
    "    df = df.drop(['shot_end_location'], axis=1)\n",
    "    \n",
    "    return df\n",
    "\n",
    "shots = get_numeric_shots(shots)"
   ]
  },
  {
   "cell_type": "code",
   "execution_count": null,
   "id": "d6a5951f-b078-4eb6-8054-b38699902d23",
   "metadata": {},
   "outputs": [],
   "source": [
    "def scale_shots(df):\n",
    "    \n",
    "    df['x'] = "
   ]
  },
  {
   "cell_type": "code",
   "execution_count": 11,
   "id": "6f696920-9ae8-40ee-a4bb-7413c6f743a7",
   "metadata": {},
   "outputs": [],
   "source": [
    "be_shots = shots[shots['team'] == 'Belgium']"
   ]
  },
  {
   "cell_type": "code",
   "execution_count": 20,
   "id": "c4d37974-8530-4753-aebe-f27ec08801da",
   "metadata": {},
   "outputs": [],
   "source": [
    "bz_shots = shots[shots['team'] == 'Brazil']"
   ]
  },
  {
   "cell_type": "code",
   "execution_count": 29,
   "id": "16e8cea6-856c-44cc-a41d-acf4f26ac0cf",
   "metadata": {},
   "outputs": [
    {
     "data": {
      "image/png": "[encoded data removed]",
      "text/plain": [
       "<Figure size 864x720 with 1 Axes>"
      ]
     },
     "metadata": {},
     "output_type": "display_data"
    }
   ],
   "source": [
    "fig, ax = plt.subplots(figsize=(12,10))\n",
    "fig.set_facecolor('#22312b')\n",
    "ax.patch.set_facecolor('#22312b')\n",
    "\n",
    "pitch = VerticalPitch(pitch_type='statsbomb', orientation='vertical', half=True,\n",
    "              pitch_color='#22312b', line_color='#c7d5cc', figsize=(13, 8),\n",
    "              constrained_layout=False, tight_layout=True)\n",
    "\n",
    "sc = pitch.scatter(be_shots.x, be_shots.y,\n",
    "                   # size varies between 100 and 1000 (points squared)\n",
    "                   s=(be_shots.shot_statsbomb_xg * 900) + 100,\n",
    "                   c='#b94b75',  # color for scatter in hex format\n",
    "                   edgecolors='#383838',  # give the markers a charcoal border\n",
    "                   # for other markers types see: https://matplotlib.org/api/markers_api.html\n",
    "                   marker='h',\n",
    "                   ax=ax)\n",
    "\n",
    "pitch.draw(ax=ax)"
   ]
  },
  {
   "cell_type": "code",
   "execution_count": null,
   "id": "75fd8e76-03d7-4878-9148-e5081aba45f3",
   "metadata": {},
   "outputs": [],
   "source": []
  },
  {
   "cell_type": "code",
   "execution_count": null,
   "id": "bb1d7eb3-d231-4960-8e20-31a6bd7c4d82",
   "metadata": {},
   "outputs": [],
   "source": []
  },
  {
   "cell_type": "code",
   "execution_count": null,
   "id": "00041d9e-b03f-4eed-a82f-cb21ed6848d8",
   "metadata": {},
   "outputs": [],
   "source": []
  },
  {
   "cell_type": "code",
   "execution_count": null,
   "id": "02ea9449-60b8-4679-a5d3-7fe8d71f3d3d",
   "metadata": {},
   "outputs": [],
   "source": []
  },
  {
   "cell_type": "code",
   "execution_count": null,
   "id": "20b770ef-1883-4044-8ec1-5a0bf4a01511",
   "metadata": {},
   "outputs": [],
   "source": []
  }
 ],
 "metadata": {
  "kernelspec": {
   "display_name": "Python 3",
   "language": "python",
   "name": "python3"
  },
  "language_info": {
   "codemirror_mode": {
    "name": "ipython",
    "version": 3
   },
   "file_extension": ".py",
   "mimetype": "text/x-python",
   "name": "python",
   "nbconvert_exporter": "python",
   "pygments_lexer": "ipython3",
   "version": "3.8.6"
  }
 },
 "nbformat": 4,
 "nbformat_minor": 5
}
