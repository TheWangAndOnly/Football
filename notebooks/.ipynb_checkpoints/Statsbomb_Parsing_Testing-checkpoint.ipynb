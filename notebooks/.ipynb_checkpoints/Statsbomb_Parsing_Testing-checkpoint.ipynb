{
 "cells": [
  {
   "cell_type": "markdown",
   "id": "802f6390",
   "metadata": {},
   "source": [
    "# Introduction "
   ]
  },
  {
   "cell_type": "markdown",
   "id": "ab1b4c3e",
   "metadata": {},
   "source": [
    "## Competitions"
   ]
  },
  {
   "cell_type": "code",
   "execution_count": 1,
   "id": "b88f367b",
   "metadata": {},
   "outputs": [],
   "source": [
    "import pandas as pd "
   ]
  },
  {
   "cell_type": "code",
   "execution_count": 3,
   "id": "0b1d83e5",
   "metadata": {},
   "outputs": [],
   "source": [
    "path = '/Users/weiyiwang/code/TheWangAndOnly/football/open-data/data/competitions.json'\n",
    "competitions = pd.read_json(path)"
   ]
  },
  {
   "cell_type": "code",
   "execution_count": 4,
   "id": "b5a18b71",
   "metadata": {},
   "outputs": [],
   "source": [
    "competitions_female = competitions.loc[competitions['competition_gender'] == 'female']"
   ]
  },
  {
   "cell_type": "code",
   "execution_count": 5,
   "id": "ea964d51",
   "metadata": {},
   "outputs": [],
   "source": [
    "competitions_male = competitions.loc[competitions['competition_gender'] == 'male']"
   ]
  },
  {
   "cell_type": "code",
   "execution_count": 6,
   "id": "d1a45362",
   "metadata": {},
   "outputs": [],
   "source": [
    "competitions = competitions[['competition_id', 'season_id', 'competition_name', 'season_name']]"
   ]
  },
  {
   "cell_type": "markdown",
   "id": "91fc7b5b",
   "metadata": {},
   "source": [
    "## Matches"
   ]
  },
  {
   "cell_type": "code",
   "execution_count": null,
   "id": "0954c174",
   "metadata": {},
   "outputs": [],
   "source": [
    "import json"
   ]
  },
  {
   "cell_type": "code",
   "execution_count": 55,
   "id": "f930bc6c",
   "metadata": {},
   "outputs": [
    {
     "ename": "SyntaxError",
     "evalue": "invalid syntax (<ipython-input-55-31e2a1cf632e>, line 1)",
     "output_type": "error",
     "traceback": [
      "\u001b[0;36m  File \u001b[0;32m\"<ipython-input-55-31e2a1cf632e>\"\u001b[0;36m, line \u001b[0;32m1\u001b[0m\n\u001b[0;31m    with open('/Users/weiyiwang/code/TheWangAndOnly/Football/open-data/data/matches/16/41.json')\u001b[0m\n\u001b[0m                                                                                                ^\u001b[0m\n\u001b[0;31mSyntaxError\u001b[0m\u001b[0;31m:\u001b[0m invalid syntax\n"
     ]
    }
   ],
   "source": [
    "with open('/Users/weiyiwang/code/TheWangAndOnly/Football/open-data/data/matches/16/41.json') as f:\n",
    "    df = pd.DataFrame(json.loads)"
   ]
  },
  {
   "cell_type": "code",
   "execution_count": 7,
   "id": "594ba2f6",
   "metadata": {},
   "outputs": [],
   "source": [
    "cl_0809_path = '/Users/weiyiwang/code/TheWangAndOnly/Football/open-data/data/matches/16/41.json'\n",
    "cl_0809 = pd.read_json(cl_0809_path)"
   ]
  },
  {
   "cell_type": "code",
   "execution_count": 54,
   "id": "d9b1cf90",
   "metadata": {},
   "outputs": [
    {
     "data": {
      "text/html": [
       "<div>\n",
       "<style scoped>\n",
       "    .dataframe tbody tr th:only-of-type {\n",
       "        vertical-align: middle;\n",
       "    }\n",
       "\n",
       "    .dataframe tbody tr th {\n",
       "        vertical-align: top;\n",
       "    }\n",
       "\n",
       "    .dataframe thead th {\n",
       "        text-align: right;\n",
       "    }\n",
       "</style>\n",
       "<table border=\"1\" class=\"dataframe\">\n",
       "  <thead>\n",
       "    <tr style=\"text-align: right;\">\n",
       "      <th></th>\n",
       "      <th>match_id</th>\n",
       "      <th>match_date</th>\n",
       "      <th>kick_off</th>\n",
       "      <th>competition</th>\n",
       "      <th>season</th>\n",
       "      <th>home_team</th>\n",
       "      <th>away_team</th>\n",
       "      <th>home_score</th>\n",
       "      <th>away_score</th>\n",
       "      <th>match_status</th>\n",
       "      <th>match_status_360</th>\n",
       "      <th>last_updated</th>\n",
       "      <th>last_updated_360</th>\n",
       "      <th>metadata</th>\n",
       "      <th>match_week</th>\n",
       "      <th>competition_stage</th>\n",
       "      <th>stadium</th>\n",
       "      <th>referee</th>\n",
       "    </tr>\n",
       "  </thead>\n",
       "  <tbody>\n",
       "    <tr>\n",
       "      <th>0</th>\n",
       "      <td>3750201</td>\n",
       "      <td>2009-05-27</td>\n",
       "      <td>20:45:00.000</td>\n",
       "      <td>{'competition_id': 16, 'country_name': 'Europe...</td>\n",
       "      <td>{'season_id': 41, 'season_name': '2008/2009'}</td>\n",
       "      <td>{'home_team_id': 217, 'home_team_name': 'Barce...</td>\n",
       "      <td>{'away_team_id': 39, 'away_team_name': 'Manche...</td>\n",
       "      <td>2</td>\n",
       "      <td>0</td>\n",
       "      <td>available</td>\n",
       "      <td>scheduled</td>\n",
       "      <td>2021-11-07T14:20:01.699993</td>\n",
       "      <td>2021-06-13T16:17:31.694</td>\n",
       "      <td>{'data_version': '1.1.0', 'shot_fidelity_versi...</td>\n",
       "      <td>1</td>\n",
       "      <td>{'id': 26, 'name': 'Final'}</td>\n",
       "      <td>{'id': 381, 'name': 'Stadio Olimpico (Roma)', ...</td>\n",
       "      <td>{'id': 705, 'name': 'Massimo Busacca', 'countr...</td>\n",
       "    </tr>\n",
       "  </tbody>\n",
       "</table>\n",
       "</div>"
      ],
      "text/plain": [
       "   match_id  match_date      kick_off  \\\n",
       "0   3750201  2009-05-27  20:45:00.000   \n",
       "\n",
       "                                         competition  \\\n",
       "0  {'competition_id': 16, 'country_name': 'Europe...   \n",
       "\n",
       "                                          season  \\\n",
       "0  {'season_id': 41, 'season_name': '2008/2009'}   \n",
       "\n",
       "                                           home_team  \\\n",
       "0  {'home_team_id': 217, 'home_team_name': 'Barce...   \n",
       "\n",
       "                                           away_team  home_score  away_score  \\\n",
       "0  {'away_team_id': 39, 'away_team_name': 'Manche...           2           0   \n",
       "\n",
       "  match_status match_status_360                last_updated  \\\n",
       "0    available        scheduled  2021-11-07T14:20:01.699993   \n",
       "\n",
       "          last_updated_360                                           metadata  \\\n",
       "0  2021-06-13T16:17:31.694  {'data_version': '1.1.0', 'shot_fidelity_versi...   \n",
       "\n",
       "   match_week            competition_stage  \\\n",
       "0           1  {'id': 26, 'name': 'Final'}   \n",
       "\n",
       "                                             stadium  \\\n",
       "0  {'id': 381, 'name': 'Stadio Olimpico (Roma)', ...   \n",
       "\n",
       "                                             referee  \n",
       "0  {'id': 705, 'name': 'Massimo Busacca', 'countr...  "
      ]
     },
     "execution_count": 54,
     "metadata": {},
     "output_type": "execute_result"
    }
   ],
   "source": [
    "cl_0809"
   ]
  },
  {
   "cell_type": "code",
   "execution_count": 20,
   "id": "ee4983b1",
   "metadata": {},
   "outputs": [],
   "source": [
    "from pandas import json_normalize"
   ]
  },
  {
   "cell_type": "code",
   "execution_count": 30,
   "id": "f839c902",
   "metadata": {},
   "outputs": [],
   "source": [
    "import os"
   ]
  },
  {
   "cell_type": "code",
   "execution_count": 35,
   "id": "2fadef50",
   "metadata": {},
   "outputs": [],
   "source": [
    "base_dir = os.path.join('..', '..')\n",
    "data_dir_sb = os.path.join(base_dir, 'data', 'sb')"
   ]
  },
  {
   "cell_type": "code",
   "execution_count": 33,
   "id": "2ab38739",
   "metadata": {},
   "outputs": [],
   "source": [
    "import glob"
   ]
  },
  {
   "cell_type": "code",
   "execution_count": 31,
   "id": "85eb152f",
   "metadata": {},
   "outputs": [
    {
     "ename": "NameError",
     "evalue": "name 'data_dir_sb' is not defined",
     "output_type": "error",
     "traceback": [
      "\u001b[0;31m---------------------------------------------------------------------------\u001b[0m",
      "\u001b[0;31mNameError\u001b[0m                                 Traceback (most recent call last)",
      "\u001b[0;32m<ipython-input-31-7c76d1db97d5>\u001b[0m in \u001b[0;36m<module>\u001b[0;34m\u001b[0m\n\u001b[1;32m      2\u001b[0m \u001b[0;34m\u001b[0m\u001b[0m\n\u001b[1;32m      3\u001b[0m \u001b[0;31m## Read in exported CSV file if exists, if not, read in JSON file\u001b[0m\u001b[0;34m\u001b[0m\u001b[0;34m\u001b[0m\u001b[0;34m\u001b[0m\u001b[0m\n\u001b[0;32m----> 4\u001b[0;31m \u001b[0;32mif\u001b[0m \u001b[0;32mnot\u001b[0m \u001b[0mos\u001b[0m\u001b[0;34m.\u001b[0m\u001b[0mpath\u001b[0m\u001b[0;34m.\u001b[0m\u001b[0mexists\u001b[0m\u001b[0;34m(\u001b[0m\u001b[0mos\u001b[0m\u001b[0;34m.\u001b[0m\u001b[0mpath\u001b[0m\u001b[0;34m.\u001b[0m\u001b[0mjoin\u001b[0m\u001b[0;34m(\u001b[0m\u001b[0mdata_dir_sb\u001b[0m\u001b[0;34m,\u001b[0m \u001b[0;34m'raw'\u001b[0m\u001b[0;34m,\u001b[0m \u001b[0;34m'matches'\u001b[0m\u001b[0;34m,\u001b[0m \u001b[0;34m'matches_wc2018.csv'\u001b[0m\u001b[0;34m)\u001b[0m\u001b[0;34m)\u001b[0m\u001b[0;34m:\u001b[0m\u001b[0;34m\u001b[0m\u001b[0;34m\u001b[0m\u001b[0m\n\u001b[0m\u001b[1;32m      5\u001b[0m \u001b[0;34m\u001b[0m\u001b[0m\n\u001b[1;32m      6\u001b[0m     \u001b[0;31m### Create empty list for DataFrames\u001b[0m\u001b[0;34m\u001b[0m\u001b[0;34m\u001b[0m\u001b[0;34m\u001b[0m\u001b[0m\n",
      "\u001b[0;31mNameError\u001b[0m: name 'data_dir_sb' is not defined"
     ]
    }
   ],
   "source": [
    "# Read in selected matches\n",
    "\n",
    "## Read in exported CSV file if exists, if not, read in JSON file\n",
    "if not os.path.exists(os.path.join(data_dir_sb, 'raw', 'matches', 'matches_wc2018.csv')):\n",
    "    \n",
    "    ### Create empty list for DataFrames\n",
    "    dfs_matches_all = []\n",
    "    \n",
    "    ### Loop through the selected competitions\n",
    "    for competition in lst_competitions:\n",
    "\n",
    "        ### Create empty list for DataFrames\n",
    "        dfs_matches_competition = []\n",
    "        \n",
    "        #### Show files in directory\n",
    "        lst_filepaths = list(glob.glob(data_dir_sb + '/open-data/data/matches/' + str(competition) + '/*'))\n",
    "            \n",
    "        for filepath in lst_filepaths:\n",
    "        \n",
    "            ##### Open the JSON filepath with defined Competition and Season IDs\n",
    "            try:\n",
    "\n",
    "                ###### Import all StatsBomb JSON Match data for the mens matches\n",
    "                with open(filepath) as f:\n",
    "                    json_sb_match_data = json.load(f)\n",
    "\n",
    "                ###### Flatten the JSON Match data\n",
    "                df_matches_flat = json_normalize(json_sb_match_data)\n",
    "\n",
    "                ###### Append each Match data to \n",
    "                dfs_matches_competition.append(df_matches_flat)\n",
    "\n",
    "                ## Concatenate DataFrames to one DataFrame\n",
    "                df_matches_competition = pd.concat(dfs_matches_competition)\n",
    "\n",
    "            #####\n",
    "            except:\n",
    "                pass\n",
    "\n",
    "        ## Concatenate DataFrames to one DataFrame\n",
    "        dfs_matches_all.append(df_matches_competition)\n",
    "            \n",
    "    ## Concatenate DataFrames to one DataFrame\n",
    "    df_matches_flat = pd.concat(dfs_matches_all)\n",
    "    \n",
    "##\n",
    "else:    \n",
    "    df_matches_flat = pd.read_csv(os.path.join(data_dir_sb, 'raw', 'matches', 'matches_wc2018.csv'))\n",
    "    \n",
    "    \n",
    "## Display DataFrame\n",
    "df_matches_flat.head()"
   ]
  },
  {
   "cell_type": "code",
   "execution_count": 25,
   "id": "a1c5b9cf",
   "metadata": {},
   "outputs": [],
   "source": [
    "df_matches_competition = []\n",
    "\n",
    "try:\n",
    "\n",
    "                ###### Import all StatsBomb JSON Match data for the mens matches\n",
    "    with open('/Users/weiyiwang/code/TheWangAndOnly/Football/open-data/data/matches/16/41.json') as f:\n",
    "                json_sb_match_data = json.load(f)\n",
    "\n",
    "                ###### Flatten the JSON Match data\n",
    "                df_matches_flat = json_normalize(json_sb_match_data)\n",
    "\n",
    "                ###### Append each Match data to \n",
    "                dfs_matches_competition.append(df_matches_flat)\n",
    "\n",
    "                ## Concatenate DataFrames to one DataFrame\n",
    "                df_matches_competition = pd.concat(dfs_matches_competition)\n",
    "\n",
    "            #####\n",
    "except:\n",
    "    pass"
   ]
  },
  {
   "cell_type": "code",
   "execution_count": 28,
   "id": "ab3333d4",
   "metadata": {},
   "outputs": [
    {
     "data": {
      "text/html": [
       "<div>\n",
       "<style scoped>\n",
       "    .dataframe tbody tr th:only-of-type {\n",
       "        vertical-align: middle;\n",
       "    }\n",
       "\n",
       "    .dataframe tbody tr th {\n",
       "        vertical-align: top;\n",
       "    }\n",
       "\n",
       "    .dataframe thead th {\n",
       "        text-align: right;\n",
       "    }\n",
       "</style>\n",
       "<table border=\"1\" class=\"dataframe\">\n",
       "  <thead>\n",
       "    <tr style=\"text-align: right;\">\n",
       "      <th></th>\n",
       "      <th>match_id</th>\n",
       "      <th>match_date</th>\n",
       "      <th>kick_off</th>\n",
       "      <th>home_score</th>\n",
       "      <th>away_score</th>\n",
       "      <th>match_status</th>\n",
       "      <th>match_status_360</th>\n",
       "      <th>last_updated</th>\n",
       "      <th>last_updated_360</th>\n",
       "      <th>match_week</th>\n",
       "      <th>...</th>\n",
       "      <th>competition_stage.id</th>\n",
       "      <th>competition_stage.name</th>\n",
       "      <th>stadium.id</th>\n",
       "      <th>stadium.name</th>\n",
       "      <th>stadium.country.id</th>\n",
       "      <th>stadium.country.name</th>\n",
       "      <th>referee.id</th>\n",
       "      <th>referee.name</th>\n",
       "      <th>referee.country.id</th>\n",
       "      <th>referee.country.name</th>\n",
       "    </tr>\n",
       "  </thead>\n",
       "  <tbody>\n",
       "    <tr>\n",
       "      <th>0</th>\n",
       "      <td>3750201</td>\n",
       "      <td>2009-05-27</td>\n",
       "      <td>20:45:00.000</td>\n",
       "      <td>2</td>\n",
       "      <td>0</td>\n",
       "      <td>available</td>\n",
       "      <td>scheduled</td>\n",
       "      <td>2021-11-07T14:20:01.699993</td>\n",
       "      <td>2021-06-13T16:17:31.694</td>\n",
       "      <td>1</td>\n",
       "      <td>...</td>\n",
       "      <td>26</td>\n",
       "      <td>Final</td>\n",
       "      <td>381</td>\n",
       "      <td>Stadio Olimpico (Roma)</td>\n",
       "      <td>112</td>\n",
       "      <td>Italy</td>\n",
       "      <td>705</td>\n",
       "      <td>Massimo Busacca</td>\n",
       "      <td>221</td>\n",
       "      <td>Switzerland</td>\n",
       "    </tr>\n",
       "  </tbody>\n",
       "</table>\n",
       "<p>1 rows × 42 columns</p>\n",
       "</div>"
      ],
      "text/plain": [
       "   match_id  match_date      kick_off  home_score  away_score match_status  \\\n",
       "0   3750201  2009-05-27  20:45:00.000           2           0    available   \n",
       "\n",
       "  match_status_360                last_updated         last_updated_360  \\\n",
       "0        scheduled  2021-11-07T14:20:01.699993  2021-06-13T16:17:31.694   \n",
       "\n",
       "   match_week  ...  competition_stage.id competition_stage.name stadium.id  \\\n",
       "0           1  ...                    26                  Final        381   \n",
       "\n",
       "             stadium.name stadium.country.id  stadium.country.name referee.id  \\\n",
       "0  Stadio Olimpico (Roma)                112                 Italy        705   \n",
       "\n",
       "      referee.name referee.country.id  referee.country.name  \n",
       "0  Massimo Busacca                221           Switzerland  \n",
       "\n",
       "[1 rows x 42 columns]"
      ]
     },
     "execution_count": 28,
     "metadata": {},
     "output_type": "execute_result"
    }
   ],
   "source": [
    "df_matches_flat"
   ]
  },
  {
   "cell_type": "markdown",
   "id": "9471912b",
   "metadata": {},
   "source": [
    "The data looks messy. I found inspiration through the work of Eddy Webster's GitHub."
   ]
  },
  {
   "cell_type": "code",
   "execution_count": null,
   "id": "fbcbe170",
   "metadata": {},
   "outputs": [],
   "source": []
  }
 ],
 "metadata": {
  "kernelspec": {
   "display_name": "Python 3",
   "language": "python",
   "name": "python3"
  },
  "language_info": {
   "codemirror_mode": {
    "name": "ipython",
    "version": 3
   },
   "file_extension": ".py",
   "mimetype": "text/x-python",
   "name": "python",
   "nbconvert_exporter": "python",
   "pygments_lexer": "ipython3",
   "version": "3.8.6"
  },
  "toc": {
   "base_numbering": 1,
   "nav_menu": {},
   "number_sections": true,
   "sideBar": true,
   "skip_h1_title": false,
   "title_cell": "Table of Contents",
   "title_sidebar": "Contents",
   "toc_cell": false,
   "toc_position": {},
   "toc_section_display": true,
   "toc_window_display": false
  }
 },
 "nbformat": 4,
 "nbformat_minor": 5
}
