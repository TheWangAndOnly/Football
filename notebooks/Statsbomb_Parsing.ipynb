{
 "cells": [
  {
   "cell_type": "markdown",
   "id": "802f6390",
   "metadata": {},
   "source": [
    "# Introduction "
   ]
  },
  {
   "cell_type": "markdown",
   "id": "ab1b4c3e",
   "metadata": {},
   "source": [
    "## Competitions"
   ]
  },
  {
   "cell_type": "code",
   "execution_count": 1,
   "id": "b88f367b",
   "metadata": {},
   "outputs": [],
   "source": [
    "import pandas as pd "
   ]
  },
  {
   "cell_type": "code",
   "execution_count": 3,
   "id": "0b1d83e5",
   "metadata": {},
   "outputs": [],
   "source": [
    "path = '/Users/weiyiwang/code/TheWangAndOnly/football/open-data/data/competitions.json'\n",
    "competitions = pd.read_json(path)"
   ]
  },
  {
   "cell_type": "code",
   "execution_count": 4,
   "id": "b5a18b71",
   "metadata": {},
   "outputs": [],
   "source": [
    "competitions_female = competitions.loc[competitions['competition_gender'] == 'female']"
   ]
  },
  {
   "cell_type": "code",
   "execution_count": 5,
   "id": "ea964d51",
   "metadata": {},
   "outputs": [],
   "source": [
    "competitions_male = competitions.loc[competitions['competition_gender'] == 'male']"
   ]
  },
  {
   "cell_type": "code",
   "execution_count": 6,
   "id": "d1a45362",
   "metadata": {},
   "outputs": [],
   "source": [
    "competitions = competitions[['competition_id', 'season_id', 'competition_name', 'season_name']]"
   ]
  },
  {
   "cell_type": "code",
   "execution_count": null,
   "id": "8ebe594a",
   "metadata": {},
   "outputs": [],
   "source": [
    "competitions"
   ]
  },
  {
   "cell_type": "markdown",
   "id": "91fc7b5b",
   "metadata": {},
   "source": [
    "## Matches"
   ]
  },
  {
   "cell_type": "code",
   "execution_count": 7,
   "id": "594ba2f6",
   "metadata": {},
   "outputs": [],
   "source": [
    "cl_0809_path = '/Users/weiyiwang/code/TheWangAndOnly/Football/open-data/data/matches/16/41.json'\n",
    "cl_0809 = pd.read_json(cl_0809_path)"
   ]
  },
  {
   "cell_type": "code",
   "execution_count": 8,
   "id": "ab3333d4",
   "metadata": {},
   "outputs": [
    {
     "data": {
      "text/html": [
       "<div>\n",
       "<style scoped>\n",
       "    .dataframe tbody tr th:only-of-type {\n",
       "        vertical-align: middle;\n",
       "    }\n",
       "\n",
       "    .dataframe tbody tr th {\n",
       "        vertical-align: top;\n",
       "    }\n",
       "\n",
       "    .dataframe thead th {\n",
       "        text-align: right;\n",
       "    }\n",
       "</style>\n",
       "<table border=\"1\" class=\"dataframe\">\n",
       "  <thead>\n",
       "    <tr style=\"text-align: right;\">\n",
       "      <th></th>\n",
       "      <th>match_id</th>\n",
       "      <th>match_date</th>\n",
       "      <th>kick_off</th>\n",
       "      <th>competition</th>\n",
       "      <th>season</th>\n",
       "      <th>home_team</th>\n",
       "      <th>away_team</th>\n",
       "      <th>home_score</th>\n",
       "      <th>away_score</th>\n",
       "      <th>match_status</th>\n",
       "      <th>match_status_360</th>\n",
       "      <th>last_updated</th>\n",
       "      <th>last_updated_360</th>\n",
       "      <th>metadata</th>\n",
       "      <th>match_week</th>\n",
       "      <th>competition_stage</th>\n",
       "      <th>stadium</th>\n",
       "      <th>referee</th>\n",
       "    </tr>\n",
       "  </thead>\n",
       "  <tbody>\n",
       "    <tr>\n",
       "      <th>0</th>\n",
       "      <td>3750201</td>\n",
       "      <td>2009-05-27</td>\n",
       "      <td>20:45:00.000</td>\n",
       "      <td>{'competition_id': 16, 'country_name': 'Europe...</td>\n",
       "      <td>{'season_id': 41, 'season_name': '2008/2009'}</td>\n",
       "      <td>{'home_team_id': 217, 'home_team_name': 'Barce...</td>\n",
       "      <td>{'away_team_id': 39, 'away_team_name': 'Manche...</td>\n",
       "      <td>2</td>\n",
       "      <td>0</td>\n",
       "      <td>available</td>\n",
       "      <td>scheduled</td>\n",
       "      <td>2021-11-07T14:20:01.699993</td>\n",
       "      <td>2021-06-13T16:17:31.694</td>\n",
       "      <td>{'data_version': '1.1.0', 'shot_fidelity_versi...</td>\n",
       "      <td>1</td>\n",
       "      <td>{'id': 26, 'name': 'Final'}</td>\n",
       "      <td>{'id': 381, 'name': 'Stadio Olimpico (Roma)', ...</td>\n",
       "      <td>{'id': 705, 'name': 'Massimo Busacca', 'countr...</td>\n",
       "    </tr>\n",
       "  </tbody>\n",
       "</table>\n",
       "</div>"
      ],
      "text/plain": [
       "   match_id  match_date      kick_off  \\\n",
       "0   3750201  2009-05-27  20:45:00.000   \n",
       "\n",
       "                                         competition  \\\n",
       "0  {'competition_id': 16, 'country_name': 'Europe...   \n",
       "\n",
       "                                          season  \\\n",
       "0  {'season_id': 41, 'season_name': '2008/2009'}   \n",
       "\n",
       "                                           home_team  \\\n",
       "0  {'home_team_id': 217, 'home_team_name': 'Barce...   \n",
       "\n",
       "                                           away_team  home_score  away_score  \\\n",
       "0  {'away_team_id': 39, 'away_team_name': 'Manche...           2           0   \n",
       "\n",
       "  match_status match_status_360                last_updated  \\\n",
       "0    available        scheduled  2021-11-07T14:20:01.699993   \n",
       "\n",
       "          last_updated_360                                           metadata  \\\n",
       "0  2021-06-13T16:17:31.694  {'data_version': '1.1.0', 'shot_fidelity_versi...   \n",
       "\n",
       "   match_week            competition_stage  \\\n",
       "0           1  {'id': 26, 'name': 'Final'}   \n",
       "\n",
       "                                             stadium  \\\n",
       "0  {'id': 381, 'name': 'Stadio Olimpico (Roma)', ...   \n",
       "\n",
       "                                             referee  \n",
       "0  {'id': 705, 'name': 'Massimo Busacca', 'countr...  "
      ]
     },
     "execution_count": 8,
     "metadata": {},
     "output_type": "execute_result"
    }
   ],
   "source": [
    "cl_0809"
   ]
  },
  {
   "cell_type": "markdown",
   "id": "07ab3a9d",
   "metadata": {},
   "source": [
    "The data looks messy. I found inspiration through the work of Eddy Webster's GitHub."
   ]
  },
  {
   "cell_type": "code",
   "execution_count": null,
   "id": "fbcbe170",
   "metadata": {},
   "outputs": [],
   "source": []
  }
 ],
 "metadata": {
  "kernelspec": {
   "display_name": "Python 3",
   "language": "python",
   "name": "python3"
  },
  "language_info": {
   "codemirror_mode": {
    "name": "ipython",
    "version": 3
   },
   "file_extension": ".py",
   "mimetype": "text/x-python",
   "name": "python",
   "nbconvert_exporter": "python",
   "pygments_lexer": "ipython3",
   "version": "3.8.6"
  },
  "toc": {
   "base_numbering": 1,
   "nav_menu": {},
   "number_sections": true,
   "sideBar": true,
   "skip_h1_title": false,
   "title_cell": "Table of Contents",
   "title_sidebar": "Contents",
   "toc_cell": false,
   "toc_position": {},
   "toc_section_display": true,
   "toc_window_display": false
  }
 },
 "nbformat": 4,
 "nbformat_minor": 5
}
