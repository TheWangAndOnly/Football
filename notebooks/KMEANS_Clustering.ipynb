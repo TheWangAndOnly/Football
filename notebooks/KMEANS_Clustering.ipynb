{
 "cells": [
  {
   "cell_type": "markdown",
   "id": "91c7fa5e",
   "metadata": {},
   "source": [
    "# KMeans clustering for Football Analysis"
   ]
  },
  {
   "cell_type": "code",
   "execution_count": 1,
   "id": "addc05ad",
   "metadata": {},
   "outputs": [],
   "source": [
    "import pandas as pd \n",
    "import numpy as np \n",
    "import matplotlib.pyplot as plt\n",
    "import missingno as msno \n",
    "from statsbombpy import sb\n",
    "from mplsoccer.pitch import Pitch\n",
    "from sklearn.cluster import KMeans\n",
    "import warnings\n",
    "from pandas.core.common import SettingWithCopyWarning\n",
    "warnings.simplefilter(action=\"ignore\", category=SettingWithCopyWarning)"
   ]
  },
  {
   "cell_type": "markdown",
   "id": "8ca17bb7",
   "metadata": {},
   "source": [
    "# Belgium v Italy EURO 2020"
   ]
  },
  {
   "cell_type": "code",
   "execution_count": 4,
   "id": "6b16bf1b",
   "metadata": {},
   "outputs": [
    {
     "name": "stdout",
     "output_type": "stream",
     "text": [
      "credentials were not supplied. open data access only\n"
     ]
    }
   ],
   "source": [
    "matches = sb.matches(55,43)"
   ]
  },
  {
   "cell_type": "code",
   "execution_count": 5,
   "id": "a0b29ec7",
   "metadata": {},
   "outputs": [],
   "source": [
    "belgium = matches[(matches['home_team'] == 'Belgium') | (matches['away_team'] == 'Belgium')]"
   ]
  },
  {
   "cell_type": "code",
   "execution_count": 6,
   "id": "88665450",
   "metadata": {},
   "outputs": [
    {
     "data": {
      "text/html": [
       "<div>\n",
       "<style scoped>\n",
       "    .dataframe tbody tr th:only-of-type {\n",
       "        vertical-align: middle;\n",
       "    }\n",
       "\n",
       "    .dataframe tbody tr th {\n",
       "        vertical-align: top;\n",
       "    }\n",
       "\n",
       "    .dataframe thead th {\n",
       "        text-align: right;\n",
       "    }\n",
       "</style>\n",
       "<table border=\"1\" class=\"dataframe\">\n",
       "  <thead>\n",
       "    <tr style=\"text-align: right;\">\n",
       "      <th></th>\n",
       "      <th>match_id</th>\n",
       "      <th>match_date</th>\n",
       "      <th>kick_off</th>\n",
       "      <th>competition</th>\n",
       "      <th>season</th>\n",
       "      <th>home_team</th>\n",
       "      <th>away_team</th>\n",
       "      <th>home_score</th>\n",
       "      <th>away_score</th>\n",
       "      <th>match_status</th>\n",
       "      <th>match_status_360</th>\n",
       "      <th>last_updated</th>\n",
       "      <th>last_updated_360</th>\n",
       "      <th>match_week</th>\n",
       "      <th>competition_stage</th>\n",
       "      <th>stadium</th>\n",
       "      <th>referee</th>\n",
       "      <th>data_version</th>\n",
       "      <th>shot_fidelity_version</th>\n",
       "      <th>xy_fidelity_version</th>\n",
       "    </tr>\n",
       "  </thead>\n",
       "  <tbody>\n",
       "    <tr>\n",
       "      <th>2</th>\n",
       "      <td>3795107</td>\n",
       "      <td>2021-07-02</td>\n",
       "      <td>21:00:00.000</td>\n",
       "      <td>Europe - UEFA Euro</td>\n",
       "      <td>2020</td>\n",
       "      <td>Belgium</td>\n",
       "      <td>Italy</td>\n",
       "      <td>1</td>\n",
       "      <td>2</td>\n",
       "      <td>available</td>\n",
       "      <td>available</td>\n",
       "      <td>2022-02-01T17:20:34.319496</td>\n",
       "      <td>2021-09-23T00:02:51.495862</td>\n",
       "      <td>5</td>\n",
       "      <td>Quarter-finals</td>\n",
       "      <td>Allianz Arena</td>\n",
       "      <td>Slavko Vinčić</td>\n",
       "      <td>1.1.0</td>\n",
       "      <td>2</td>\n",
       "      <td>2</td>\n",
       "    </tr>\n",
       "    <tr>\n",
       "      <th>8</th>\n",
       "      <td>3794687</td>\n",
       "      <td>2021-06-27</td>\n",
       "      <td>21:00:00.000</td>\n",
       "      <td>Europe - UEFA Euro</td>\n",
       "      <td>2020</td>\n",
       "      <td>Belgium</td>\n",
       "      <td>Portugal</td>\n",
       "      <td>1</td>\n",
       "      <td>0</td>\n",
       "      <td>available</td>\n",
       "      <td>available</td>\n",
       "      <td>2021-07-05T13:37:21.633</td>\n",
       "      <td>2021-09-22T16:40:48.020474</td>\n",
       "      <td>4</td>\n",
       "      <td>Round of 16</td>\n",
       "      <td>Estadio de La Cartuja</td>\n",
       "      <td>Felix Brych</td>\n",
       "      <td>1.1.0</td>\n",
       "      <td>2</td>\n",
       "      <td>2</td>\n",
       "    </tr>\n",
       "    <tr>\n",
       "      <th>13</th>\n",
       "      <td>3788768</td>\n",
       "      <td>2021-06-21</td>\n",
       "      <td>21:00:00.000</td>\n",
       "      <td>Europe - UEFA Euro</td>\n",
       "      <td>2020</td>\n",
       "      <td>Finland</td>\n",
       "      <td>Belgium</td>\n",
       "      <td>0</td>\n",
       "      <td>2</td>\n",
       "      <td>available</td>\n",
       "      <td>available</td>\n",
       "      <td>2021-06-22T13:47:34.925</td>\n",
       "      <td>2021-09-22T16:40:14.297313</td>\n",
       "      <td>3</td>\n",
       "      <td>Group Stage</td>\n",
       "      <td>Saint-Petersburg Stadium</td>\n",
       "      <td>Felix Brych</td>\n",
       "      <td>1.1.0</td>\n",
       "      <td>2</td>\n",
       "      <td>2</td>\n",
       "    </tr>\n",
       "    <tr>\n",
       "      <th>18</th>\n",
       "      <td>3788757</td>\n",
       "      <td>2021-06-17</td>\n",
       "      <td>18:00:00.000</td>\n",
       "      <td>Europe - UEFA Euro</td>\n",
       "      <td>2020</td>\n",
       "      <td>Denmark</td>\n",
       "      <td>Belgium</td>\n",
       "      <td>1</td>\n",
       "      <td>2</td>\n",
       "      <td>available</td>\n",
       "      <td>available</td>\n",
       "      <td>2021-07-24T16:17:22.251</td>\n",
       "      <td>2021-09-22T16:39:19.238605</td>\n",
       "      <td>2</td>\n",
       "      <td>Group Stage</td>\n",
       "      <td>Parken</td>\n",
       "      <td>Björn Kuipers</td>\n",
       "      <td>1.1.0</td>\n",
       "      <td>2</td>\n",
       "      <td>2</td>\n",
       "    </tr>\n",
       "    <tr>\n",
       "      <th>49</th>\n",
       "      <td>3788743</td>\n",
       "      <td>2021-06-12</td>\n",
       "      <td>21:00:00.000</td>\n",
       "      <td>Europe - UEFA Euro</td>\n",
       "      <td>2020</td>\n",
       "      <td>Belgium</td>\n",
       "      <td>Russia</td>\n",
       "      <td>3</td>\n",
       "      <td>0</td>\n",
       "      <td>available</td>\n",
       "      <td>available</td>\n",
       "      <td>2021-06-13T13:10:11.602</td>\n",
       "      <td>2021-09-22T16:38:15.368959</td>\n",
       "      <td>1</td>\n",
       "      <td>Group Stage</td>\n",
       "      <td>Saint-Petersburg Stadium</td>\n",
       "      <td>Antonio Miguel Mateu Lahoz</td>\n",
       "      <td>1.1.0</td>\n",
       "      <td>2</td>\n",
       "      <td>2</td>\n",
       "    </tr>\n",
       "  </tbody>\n",
       "</table>\n",
       "</div>"
      ],
      "text/plain": [
       "    match_id  match_date      kick_off         competition season home_team  \\\n",
       "2    3795107  2021-07-02  21:00:00.000  Europe - UEFA Euro   2020   Belgium   \n",
       "8    3794687  2021-06-27  21:00:00.000  Europe - UEFA Euro   2020   Belgium   \n",
       "13   3788768  2021-06-21  21:00:00.000  Europe - UEFA Euro   2020   Finland   \n",
       "18   3788757  2021-06-17  18:00:00.000  Europe - UEFA Euro   2020   Denmark   \n",
       "49   3788743  2021-06-12  21:00:00.000  Europe - UEFA Euro   2020   Belgium   \n",
       "\n",
       "   away_team  home_score  away_score match_status match_status_360  \\\n",
       "2      Italy           1           2    available        available   \n",
       "8   Portugal           1           0    available        available   \n",
       "13   Belgium           0           2    available        available   \n",
       "18   Belgium           1           2    available        available   \n",
       "49    Russia           3           0    available        available   \n",
       "\n",
       "                  last_updated            last_updated_360  match_week  \\\n",
       "2   2022-02-01T17:20:34.319496  2021-09-23T00:02:51.495862           5   \n",
       "8      2021-07-05T13:37:21.633  2021-09-22T16:40:48.020474           4   \n",
       "13     2021-06-22T13:47:34.925  2021-09-22T16:40:14.297313           3   \n",
       "18     2021-07-24T16:17:22.251  2021-09-22T16:39:19.238605           2   \n",
       "49     2021-06-13T13:10:11.602  2021-09-22T16:38:15.368959           1   \n",
       "\n",
       "   competition_stage                   stadium                     referee  \\\n",
       "2     Quarter-finals             Allianz Arena               Slavko Vinčić   \n",
       "8        Round of 16     Estadio de La Cartuja                 Felix Brych   \n",
       "13       Group Stage  Saint-Petersburg Stadium                 Felix Brych   \n",
       "18       Group Stage                    Parken               Björn Kuipers   \n",
       "49       Group Stage  Saint-Petersburg Stadium  Antonio Miguel Mateu Lahoz   \n",
       "\n",
       "   data_version shot_fidelity_version xy_fidelity_version  \n",
       "2         1.1.0                     2                   2  \n",
       "8         1.1.0                     2                   2  \n",
       "13        1.1.0                     2                   2  \n",
       "18        1.1.0                     2                   2  \n",
       "49        1.1.0                     2                   2  "
      ]
     },
     "execution_count": 6,
     "metadata": {},
     "output_type": "execute_result"
    }
   ],
   "source": [
    "belgium"
   ]
  },
  {
   "cell_type": "code",
   "execution_count": 7,
   "id": "38a769d5",
   "metadata": {},
   "outputs": [
    {
     "name": "stdout",
     "output_type": "stream",
     "text": [
      "credentials were not supplied. open data access only\n"
     ]
    }
   ],
   "source": [
    "event = sb.events(3795107)"
   ]
  },
  {
   "cell_type": "markdown",
   "id": "06158b64",
   "metadata": {},
   "source": [
    "## Get the passes"
   ]
  },
  {
   "cell_type": "code",
   "execution_count": 8,
   "id": "7e0f1c25",
   "metadata": {},
   "outputs": [],
   "source": [
    "df = event[['team', 'type', 'location', 'pass_end_location']]"
   ]
  },
  {
   "cell_type": "code",
   "execution_count": 9,
   "id": "0f313c56",
   "metadata": {},
   "outputs": [],
   "source": [
    "be = df[(df['team'] == 'Belgium') & (df['type'] == 'Pass')]"
   ]
  },
  {
   "cell_type": "code",
   "execution_count": 10,
   "id": "3962834c",
   "metadata": {},
   "outputs": [],
   "source": [
    "#function to get coordinates (x,y)\n",
    "def get_passes(df):\n",
    "    df['x'] = [i[0] for i in df['location'].values]\n",
    "    df['y'] = [i[1] for i in df['location'].values]\n",
    "    df['endX'] = [i[0] for i in df['pass_end_location'].values]\n",
    "    df['endY'] = [i[1] for i in df['pass_end_location'].values]\n",
    "    df = df.drop(['location', 'pass_end_location'], axis =1)\n",
    "    return df"
   ]
  },
  {
   "cell_type": "code",
   "execution_count": 11,
   "id": "cae7cd1e",
   "metadata": {},
   "outputs": [],
   "source": [
    "be = get_passes(be)"
   ]
  },
  {
   "cell_type": "code",
   "execution_count": 11,
   "id": "65b8dd81",
   "metadata": {},
   "outputs": [
    {
     "data": {
      "text/html": [
       "<div>\n",
       "<style scoped>\n",
       "    .dataframe tbody tr th:only-of-type {\n",
       "        vertical-align: middle;\n",
       "    }\n",
       "\n",
       "    .dataframe tbody tr th {\n",
       "        vertical-align: top;\n",
       "    }\n",
       "\n",
       "    .dataframe thead th {\n",
       "        text-align: right;\n",
       "    }\n",
       "</style>\n",
       "<table border=\"1\" class=\"dataframe\">\n",
       "  <thead>\n",
       "    <tr style=\"text-align: right;\">\n",
       "      <th></th>\n",
       "      <th>team</th>\n",
       "      <th>type</th>\n",
       "      <th>x</th>\n",
       "      <th>y</th>\n",
       "      <th>endX</th>\n",
       "      <th>endY</th>\n",
       "    </tr>\n",
       "  </thead>\n",
       "  <tbody>\n",
       "    <tr>\n",
       "      <th>6</th>\n",
       "      <td>Belgium</td>\n",
       "      <td>Pass</td>\n",
       "      <td>60.0</td>\n",
       "      <td>40.0</td>\n",
       "      <td>54.2</td>\n",
       "      <td>36.3</td>\n",
       "    </tr>\n",
       "    <tr>\n",
       "      <th>7</th>\n",
       "      <td>Belgium</td>\n",
       "      <td>Pass</td>\n",
       "      <td>51.4</td>\n",
       "      <td>33.7</td>\n",
       "      <td>34.1</td>\n",
       "      <td>17.5</td>\n",
       "    </tr>\n",
       "    <tr>\n",
       "      <th>8</th>\n",
       "      <td>Belgium</td>\n",
       "      <td>Pass</td>\n",
       "      <td>33.0</td>\n",
       "      <td>14.7</td>\n",
       "      <td>41.1</td>\n",
       "      <td>1.6</td>\n",
       "    </tr>\n",
       "    <tr>\n",
       "      <th>9</th>\n",
       "      <td>Belgium</td>\n",
       "      <td>Pass</td>\n",
       "      <td>37.1</td>\n",
       "      <td>2.3</td>\n",
       "      <td>5.4</td>\n",
       "      <td>30.9</td>\n",
       "    </tr>\n",
       "    <tr>\n",
       "      <th>10</th>\n",
       "      <td>Belgium</td>\n",
       "      <td>Pass</td>\n",
       "      <td>7.5</td>\n",
       "      <td>32.2</td>\n",
       "      <td>9.5</td>\n",
       "      <td>51.3</td>\n",
       "    </tr>\n",
       "    <tr>\n",
       "      <th>...</th>\n",
       "      <td>...</td>\n",
       "      <td>...</td>\n",
       "      <td>...</td>\n",
       "      <td>...</td>\n",
       "      <td>...</td>\n",
       "      <td>...</td>\n",
       "    </tr>\n",
       "    <tr>\n",
       "      <th>1029</th>\n",
       "      <td>Belgium</td>\n",
       "      <td>Pass</td>\n",
       "      <td>97.8</td>\n",
       "      <td>22.0</td>\n",
       "      <td>95.6</td>\n",
       "      <td>52.9</td>\n",
       "    </tr>\n",
       "    <tr>\n",
       "      <th>1030</th>\n",
       "      <td>Belgium</td>\n",
       "      <td>Pass</td>\n",
       "      <td>96.6</td>\n",
       "      <td>55.2</td>\n",
       "      <td>115.5</td>\n",
       "      <td>60.7</td>\n",
       "    </tr>\n",
       "    <tr>\n",
       "      <th>1031</th>\n",
       "      <td>Belgium</td>\n",
       "      <td>Pass</td>\n",
       "      <td>115.8</td>\n",
       "      <td>60.7</td>\n",
       "      <td>113.5</td>\n",
       "      <td>48.2</td>\n",
       "    </tr>\n",
       "    <tr>\n",
       "      <th>1032</th>\n",
       "      <td>Belgium</td>\n",
       "      <td>Pass</td>\n",
       "      <td>120.0</td>\n",
       "      <td>80.0</td>\n",
       "      <td>113.8</td>\n",
       "      <td>51.4</td>\n",
       "    </tr>\n",
       "    <tr>\n",
       "      <th>1033</th>\n",
       "      <td>Belgium</td>\n",
       "      <td>Pass</td>\n",
       "      <td>113.6</td>\n",
       "      <td>51.4</td>\n",
       "      <td>120.0</td>\n",
       "      <td>30.5</td>\n",
       "    </tr>\n",
       "  </tbody>\n",
       "</table>\n",
       "<p>482 rows × 6 columns</p>\n",
       "</div>"
      ],
      "text/plain": [
       "         team  type      x     y   endX  endY\n",
       "6     Belgium  Pass   60.0  40.0   54.2  36.3\n",
       "7     Belgium  Pass   51.4  33.7   34.1  17.5\n",
       "8     Belgium  Pass   33.0  14.7   41.1   1.6\n",
       "9     Belgium  Pass   37.1   2.3    5.4  30.9\n",
       "10    Belgium  Pass    7.5  32.2    9.5  51.3\n",
       "...       ...   ...    ...   ...    ...   ...\n",
       "1029  Belgium  Pass   97.8  22.0   95.6  52.9\n",
       "1030  Belgium  Pass   96.6  55.2  115.5  60.7\n",
       "1031  Belgium  Pass  115.8  60.7  113.5  48.2\n",
       "1032  Belgium  Pass  120.0  80.0  113.8  51.4\n",
       "1033  Belgium  Pass  113.6  51.4  120.0  30.5\n",
       "\n",
       "[482 rows x 6 columns]"
      ]
     },
     "execution_count": 11,
     "metadata": {},
     "output_type": "execute_result"
    }
   ],
   "source": [
    "be"
   ]
  },
  {
   "cell_type": "markdown",
   "id": "c17f0d81",
   "metadata": {},
   "source": [
    "## KMeans Clusters"
   ]
  },
  {
   "cell_type": "code",
   "execution_count": 16,
   "id": "0422e744",
   "metadata": {},
   "outputs": [],
   "source": [
    "#create variable X and fit it\n",
    "#from sklearn.cluster import KMeans\n",
    "X = np.array(be[['x','y','endX', 'endY']])\n",
    "kmeans = KMeans(n_clusters = 10, random_state=42)\n",
    "kmeans.fit(X)\n",
    "be['cluster'] = kmeans.predict(X)"
   ]
  },
  {
   "cell_type": "markdown",
   "id": "24b9b55c",
   "metadata": {},
   "source": [
    "__WSS__ : The sum distance within the centroids. Since the K-means algorithm's goal is to keep the size of each cluster as small as possible, the small wss indicates that every data point is close to its nearest centroids, or say the model has returned good results."
   ]
  },
  {
   "cell_type": "code",
   "execution_count": 20,
   "id": "0f58db30",
   "metadata": {},
   "outputs": [
    {
     "data": {
      "text/html": [
       "<div>\n",
       "<style scoped>\n",
       "    .dataframe tbody tr th:only-of-type {\n",
       "        vertical-align: middle;\n",
       "    }\n",
       "\n",
       "    .dataframe tbody tr th {\n",
       "        vertical-align: top;\n",
       "    }\n",
       "\n",
       "    .dataframe thead th {\n",
       "        text-align: right;\n",
       "    }\n",
       "</style>\n",
       "<table border=\"1\" class=\"dataframe\">\n",
       "  <thead>\n",
       "    <tr style=\"text-align: right;\">\n",
       "      <th></th>\n",
       "      <th>Clusters</th>\n",
       "      <th>WSS</th>\n",
       "    </tr>\n",
       "  </thead>\n",
       "  <tbody>\n",
       "    <tr>\n",
       "      <th>0</th>\n",
       "      <td>1</td>\n",
       "      <td>1.504684e+06</td>\n",
       "    </tr>\n",
       "    <tr>\n",
       "      <th>1</th>\n",
       "      <td>2</td>\n",
       "      <td>9.098918e+05</td>\n",
       "    </tr>\n",
       "    <tr>\n",
       "      <th>2</th>\n",
       "      <td>3</td>\n",
       "      <td>6.742609e+05</td>\n",
       "    </tr>\n",
       "    <tr>\n",
       "      <th>3</th>\n",
       "      <td>4</td>\n",
       "      <td>5.125319e+05</td>\n",
       "    </tr>\n",
       "    <tr>\n",
       "      <th>4</th>\n",
       "      <td>5</td>\n",
       "      <td>4.320295e+05</td>\n",
       "    </tr>\n",
       "    <tr>\n",
       "      <th>5</th>\n",
       "      <td>6</td>\n",
       "      <td>3.774757e+05</td>\n",
       "    </tr>\n",
       "    <tr>\n",
       "      <th>6</th>\n",
       "      <td>7</td>\n",
       "      <td>3.451918e+05</td>\n",
       "    </tr>\n",
       "    <tr>\n",
       "      <th>7</th>\n",
       "      <td>8</td>\n",
       "      <td>3.190188e+05</td>\n",
       "    </tr>\n",
       "    <tr>\n",
       "      <th>8</th>\n",
       "      <td>9</td>\n",
       "      <td>2.921541e+05</td>\n",
       "    </tr>\n",
       "    <tr>\n",
       "      <th>9</th>\n",
       "      <td>10</td>\n",
       "      <td>2.741735e+05</td>\n",
       "    </tr>\n",
       "  </tbody>\n",
       "</table>\n",
       "</div>"
      ],
      "text/plain": [
       "   Clusters           WSS\n",
       "0         1  1.504684e+06\n",
       "1         2  9.098918e+05\n",
       "2         3  6.742609e+05\n",
       "3         4  5.125319e+05\n",
       "4         5  4.320295e+05\n",
       "5         6  3.774757e+05\n",
       "6         7  3.451918e+05\n",
       "7         8  3.190188e+05\n",
       "8         9  2.921541e+05\n",
       "9        10  2.741735e+05"
      ]
     },
     "execution_count": 20,
     "metadata": {},
     "output_type": "execute_result"
    }
   ],
   "source": [
    "# elbow method\n",
    "K = range(1,10+1)\n",
    "wss= []\n",
    "for k in K:\n",
    "    array = np.array(be[['x', 'y', 'endX', 'endY']])\n",
    "    kmeans = KMeans(n_clusters = k, random_state = 42)\n",
    "    kmeans.fit(array)\n",
    "    wss_iter = kmeans.inertia_\n",
    "    wss.append(wss_iter)\n",
    "    \n",
    "mycenters = pd.DataFrame({'Clusters':K, 'WSS':wss})\n",
    "mycenters"
   ]
  },
  {
   "cell_type": "code",
   "execution_count": 21,
   "id": "1d9d7eff",
   "metadata": {},
   "outputs": [
    {
     "data": {
      "text/plain": [
       "<matplotlib.collections.PathCollection at 0x12aa71b20>"
      ]
     },
     "execution_count": 21,
     "metadata": {},
     "output_type": "execute_result"
    },
    {
     "data": {
      "image/png": "[encoded data removed]",
      "text/plain": [
       "<Figure size 432x288 with 1 Axes>"
      ]
     },
     "metadata": {
      "needs_background": "light"
     },
     "output_type": "display_data"
    }
   ],
   "source": [
    "plt.scatter(x=mycenters['Clusters'], y=mycenters['WSS'])"
   ]
  },
  {
   "cell_type": "code",
   "execution_count": 12,
   "id": "27f3300a",
   "metadata": {},
   "outputs": [
    {
     "data": {
      "text/plain": [
       "5    58\n",
       "6    57\n",
       "1    56\n",
       "2    56\n",
       "3    51\n",
       "4    47\n",
       "9    44\n",
       "8    39\n",
       "7    38\n",
       "0    36\n",
       "Name: cluster, dtype: int64"
      ]
     },
     "execution_count": 12,
     "metadata": {},
     "output_type": "execute_result"
    }
   ],
   "source": [
    "be.cluster.value_counts()"
   ]
  },
  {
   "cell_type": "markdown",
   "id": "c0a45086",
   "metadata": {},
   "source": [
    "## Clustered Passes Viz"
   ]
  },
  {
   "cell_type": "code",
   "execution_count": 14,
   "id": "8a03717a",
   "metadata": {},
   "outputs": [],
   "source": [
    "### function to check available colors\n",
    "\n",
    "# import matplotlib\n",
    "# i = 0 \n",
    "# for cname, hex in matplotlib.colors.cnames.items():\n",
    "#     print(cname,hex)\n",
    "#     i += 1\n",
    "#     if i >100:\n",
    "#         break"
   ]
  },
  {
   "cell_type": "code",
   "execution_count": null,
   "id": "a5d7dd9c",
   "metadata": {},
   "outputs": [],
   "source": []
  },
  {
   "cell_type": "code",
   "execution_count": 22,
   "id": "60a26458",
   "metadata": {},
   "outputs": [
    {
     "data": {
      "image/png": "[encoded data removed]",
      "text/plain": [
       "<Figure size 720x720 with 1 Axes>"
      ]
     },
     "metadata": {},
     "output_type": "display_data"
    }
   ],
   "source": [
    "fig, ax = plt.subplots(figsize=(10,10))\n",
    "fig.set_facecolor('#38383b')\n",
    "ax.patch.set_facecolor('#38383b')\n",
    "\n",
    "pitch = Pitch(orientation='horizontal', pitch_color = '#38383b', line_color = 'white', figsize = (10,10),\n",
    "             constrained_layout=False, tight_layout=True, view='full')\n",
    "\n",
    "pitch.draw(ax=ax)\n",
    "\n",
    "for row in range(len(be['cluster'])):\n",
    "    \n",
    "    if be['cluster'].values[row] == 5: #the location of passes from where Belgium made most of their passes\n",
    "        pitch.lines(xstart=be['x'].values[row], ystart=be['y'].values[row], xend=be['endX'].values[row],\n",
    "                yend=be['endY'].values[row],color='#74c69d', lw=3, zorder=2, comet=True, ax=ax)\n",
    "        \n",
    "    if be['cluster'].values[row] == 0: #the location of passes from where Belgium made least of their passes\n",
    "        pitch.lines(xstart=be['x'].values[row], ystart=be['y'].values[row], xend=be['endX'].values[row],\n",
    "                yend=be['endY'].values[row],color='#add8e6', lw=3, zorder=2, comet=True, ax=ax)\n",
    "        \n",
    "    if be['cluster'].values[row] == 9: #the location of passes from where Belgium made the second least of their passes\n",
    "        pitch.lines(xstart=be['x'].values[row], ystart=be['y'].values[row], xend=be['endX'].values[row],\n",
    "            yend=be['endY'].values[row],color='#FFEBCD', lw=3, zorder=2, comet=True, ax=ax)\n",
    "        \n",
    "#     if be['cluster'].values[row] == 7: #the location of passes from where Belgium made the second most of their passes\n",
    "#         pitch.lines(xstart=be['x'].values[row], ystart=be['y'].values[row], xend=be['endX'].values[row],\n",
    "#             yend=be['endY'].values[row],color='#A52A2A', lw=3, zorder=2, comet=True, ax=ax)\n",
    "        \n"
   ]
  },
  {
   "cell_type": "code",
   "execution_count": null,
   "id": "f96baa93",
   "metadata": {},
   "outputs": [],
   "source": []
  },
  {
   "cell_type": "code",
   "execution_count": null,
   "id": "ab53e631",
   "metadata": {},
   "outputs": [],
   "source": []
  },
  {
   "cell_type": "code",
   "execution_count": null,
   "id": "70a0df99",
   "metadata": {},
   "outputs": [],
   "source": []
  },
  {
   "cell_type": "code",
   "execution_count": null,
   "id": "407d43ac",
   "metadata": {},
   "outputs": [],
   "source": []
  },
  {
   "cell_type": "code",
   "execution_count": null,
   "id": "6c12679e",
   "metadata": {},
   "outputs": [],
   "source": []
  },
  {
   "cell_type": "code",
   "execution_count": null,
   "id": "3e47ea3e",
   "metadata": {},
   "outputs": [],
   "source": []
  },
  {
   "cell_type": "code",
   "execution_count": null,
   "id": "ccf58bca",
   "metadata": {},
   "outputs": [],
   "source": []
  },
  {
   "cell_type": "code",
   "execution_count": null,
   "id": "626f752a",
   "metadata": {},
   "outputs": [],
   "source": []
  }
 ],
 "metadata": {
  "kernelspec": {
   "display_name": "Python 3",
   "language": "python",
   "name": "python3"
  },
  "language_info": {
   "codemirror_mode": {
    "name": "ipython",
    "version": 3
   },
   "file_extension": ".py",
   "mimetype": "text/x-python",
   "name": "python",
   "nbconvert_exporter": "python",
   "pygments_lexer": "ipython3",
   "version": "3.8.6"
  },
  "toc": {
   "base_numbering": 1,
   "nav_menu": {},
   "number_sections": true,
   "sideBar": true,
   "skip_h1_title": false,
   "title_cell": "Table of Contents",
   "title_sidebar": "Contents",
   "toc_cell": false,
   "toc_position": {},
   "toc_section_display": true,
   "toc_window_display": false
  }
 },
 "nbformat": 4,
 "nbformat_minor": 5
}
