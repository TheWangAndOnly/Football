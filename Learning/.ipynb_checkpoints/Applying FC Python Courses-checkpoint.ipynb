{
 "cells": [
  {
   "cell_type": "markdown",
   "id": "670d1224",
   "metadata": {},
   "source": [
    "# Radar Chart Attempt\n"
   ]
  },
  {
   "cell_type": "code",
   "execution_count": 9,
   "id": "6d7fef3e",
   "metadata": {},
   "outputs": [],
   "source": [
    "import pandas as pd\n",
    "from math import pi\n",
    "import matplotlib.pyplot as plt\n",
    "from mplsoccer import Radar, FontManager"
   ]
  },
  {
   "cell_type": "code",
   "execution_count": 2,
   "id": "508bb7d2",
   "metadata": {},
   "outputs": [],
   "source": [
    "Messi = {'Pace':89,'Shooting':90,'Passing':86,'Dribbling':95,'Defending':26,'Physical':61}\n",
    "Ronaldo = {'Pace':90,'Shooting':93,'Passing':82,'Dribbling':90,'Defending':33,'Physical':80}\n",
    "\n",
    "data = pd.DataFrame([Messi,Ronaldo], index = [\"Messi\",\"Ronaldo\"])"
   ]
  },
  {
   "cell_type": "code",
   "execution_count": 3,
   "id": "7a407fe0",
   "metadata": {},
   "outputs": [
    {
     "data": {
      "text/html": [
       "<div>\n",
       "<style scoped>\n",
       "    .dataframe tbody tr th:only-of-type {\n",
       "        vertical-align: middle;\n",
       "    }\n",
       "\n",
       "    .dataframe tbody tr th {\n",
       "        vertical-align: top;\n",
       "    }\n",
       "\n",
       "    .dataframe thead th {\n",
       "        text-align: right;\n",
       "    }\n",
       "</style>\n",
       "<table border=\"1\" class=\"dataframe\">\n",
       "  <thead>\n",
       "    <tr style=\"text-align: right;\">\n",
       "      <th></th>\n",
       "      <th>Pace</th>\n",
       "      <th>Shooting</th>\n",
       "      <th>Passing</th>\n",
       "      <th>Dribbling</th>\n",
       "      <th>Defending</th>\n",
       "      <th>Physical</th>\n",
       "    </tr>\n",
       "  </thead>\n",
       "  <tbody>\n",
       "    <tr>\n",
       "      <th>Messi</th>\n",
       "      <td>89</td>\n",
       "      <td>90</td>\n",
       "      <td>86</td>\n",
       "      <td>95</td>\n",
       "      <td>26</td>\n",
       "      <td>61</td>\n",
       "    </tr>\n",
       "    <tr>\n",
       "      <th>Ronaldo</th>\n",
       "      <td>90</td>\n",
       "      <td>93</td>\n",
       "      <td>82</td>\n",
       "      <td>90</td>\n",
       "      <td>33</td>\n",
       "      <td>80</td>\n",
       "    </tr>\n",
       "  </tbody>\n",
       "</table>\n",
       "</div>"
      ],
      "text/plain": [
       "         Pace  Shooting  Passing  Dribbling  Defending  Physical\n",
       "Messi      89        90       86         95         26        61\n",
       "Ronaldo    90        93       82         90         33        80"
      ]
     },
     "execution_count": 3,
     "metadata": {},
     "output_type": "execute_result"
    }
   ],
   "source": [
    "data.head()"
   ]
  },
  {
   "cell_type": "code",
   "execution_count": 10,
   "id": "6d67831d",
   "metadata": {},
   "outputs": [],
   "source": [
    "sancho = pd.read_csv('/Users/weiyiwang/code/TheWangAndOnly/Football/Data/Players/Sancho20-21.csv')"
   ]
  },
  {
   "cell_type": "code",
   "execution_count": 5,
   "id": "ee3781f3",
   "metadata": {},
   "outputs": [],
   "source": [
    "sancho = sancho.dropna()"
   ]
  },
  {
   "cell_type": "code",
   "execution_count": 6,
   "id": "a7f51267",
   "metadata": {},
   "outputs": [],
   "source": [
    "sancho = sancho[['Statistic','Percentile']]"
   ]
  },
  {
   "cell_type": "code",
   "execution_count": 7,
   "id": "99c90eab",
   "metadata": {},
   "outputs": [
    {
     "data": {
      "text/html": [
       "<div>\n",
       "<style scoped>\n",
       "    .dataframe tbody tr th:only-of-type {\n",
       "        vertical-align: middle;\n",
       "    }\n",
       "\n",
       "    .dataframe tbody tr th {\n",
       "        vertical-align: top;\n",
       "    }\n",
       "\n",
       "    .dataframe thead th {\n",
       "        text-align: right;\n",
       "    }\n",
       "</style>\n",
       "<table border=\"1\" class=\"dataframe\">\n",
       "  <thead>\n",
       "    <tr style=\"text-align: right;\">\n",
       "      <th></th>\n",
       "      <th>Statistic</th>\n",
       "      <th>Percentile</th>\n",
       "    </tr>\n",
       "  </thead>\n",
       "  <tbody>\n",
       "    <tr>\n",
       "      <th>0</th>\n",
       "      <td>Non-Penalty Goals</td>\n",
       "      <td>73.0</td>\n",
       "    </tr>\n",
       "    <tr>\n",
       "      <th>1</th>\n",
       "      <td>npxG</td>\n",
       "      <td>72.0</td>\n",
       "    </tr>\n",
       "    <tr>\n",
       "      <th>2</th>\n",
       "      <td>Shots Total</td>\n",
       "      <td>56.0</td>\n",
       "    </tr>\n",
       "    <tr>\n",
       "      <th>3</th>\n",
       "      <td>Assists</td>\n",
       "      <td>99.0</td>\n",
       "    </tr>\n",
       "    <tr>\n",
       "      <th>4</th>\n",
       "      <td>xA</td>\n",
       "      <td>92.0</td>\n",
       "    </tr>\n",
       "    <tr>\n",
       "      <th>5</th>\n",
       "      <td>npxG+xA</td>\n",
       "      <td>86.0</td>\n",
       "    </tr>\n",
       "    <tr>\n",
       "      <th>6</th>\n",
       "      <td>Shot-Creating Actions</td>\n",
       "      <td>96.0</td>\n",
       "    </tr>\n",
       "    <tr>\n",
       "      <th>8</th>\n",
       "      <td>Passes Attempted</td>\n",
       "      <td>99.0</td>\n",
       "    </tr>\n",
       "    <tr>\n",
       "      <th>9</th>\n",
       "      <td>Pass Completion %</td>\n",
       "      <td>76.0</td>\n",
       "    </tr>\n",
       "    <tr>\n",
       "      <th>10</th>\n",
       "      <td>Progressive Passes</td>\n",
       "      <td>97.0</td>\n",
       "    </tr>\n",
       "    <tr>\n",
       "      <th>11</th>\n",
       "      <td>Progressive Carries</td>\n",
       "      <td>97.0</td>\n",
       "    </tr>\n",
       "    <tr>\n",
       "      <th>12</th>\n",
       "      <td>Dribbles Completed</td>\n",
       "      <td>96.0</td>\n",
       "    </tr>\n",
       "    <tr>\n",
       "      <th>13</th>\n",
       "      <td>Touches (Att Pen)</td>\n",
       "      <td>82.0</td>\n",
       "    </tr>\n",
       "    <tr>\n",
       "      <th>14</th>\n",
       "      <td>Progressive Passes Rec</td>\n",
       "      <td>93.0</td>\n",
       "    </tr>\n",
       "    <tr>\n",
       "      <th>16</th>\n",
       "      <td>Pressures</td>\n",
       "      <td>7.0</td>\n",
       "    </tr>\n",
       "    <tr>\n",
       "      <th>17</th>\n",
       "      <td>Tackles</td>\n",
       "      <td>5.0</td>\n",
       "    </tr>\n",
       "    <tr>\n",
       "      <th>18</th>\n",
       "      <td>Interceptions</td>\n",
       "      <td>33.0</td>\n",
       "    </tr>\n",
       "    <tr>\n",
       "      <th>19</th>\n",
       "      <td>Blocks</td>\n",
       "      <td>80.0</td>\n",
       "    </tr>\n",
       "    <tr>\n",
       "      <th>20</th>\n",
       "      <td>Clearances</td>\n",
       "      <td>29.0</td>\n",
       "    </tr>\n",
       "    <tr>\n",
       "      <th>21</th>\n",
       "      <td>Aerials won</td>\n",
       "      <td>6.0</td>\n",
       "    </tr>\n",
       "  </tbody>\n",
       "</table>\n",
       "</div>"
      ],
      "text/plain": [
       "                 Statistic  Percentile\n",
       "0        Non-Penalty Goals        73.0\n",
       "1                     npxG        72.0\n",
       "2              Shots Total        56.0\n",
       "3                  Assists        99.0\n",
       "4                       xA        92.0\n",
       "5                  npxG+xA        86.0\n",
       "6    Shot-Creating Actions        96.0\n",
       "8         Passes Attempted        99.0\n",
       "9        Pass Completion %        76.0\n",
       "10      Progressive Passes        97.0\n",
       "11     Progressive Carries        97.0\n",
       "12      Dribbles Completed        96.0\n",
       "13       Touches (Att Pen)        82.0\n",
       "14  Progressive Passes Rec        93.0\n",
       "16               Pressures         7.0\n",
       "17                 Tackles         5.0\n",
       "18           Interceptions        33.0\n",
       "19                  Blocks        80.0\n",
       "20              Clearances        29.0\n",
       "21             Aerials won         6.0"
      ]
     },
     "execution_count": 7,
     "metadata": {},
     "output_type": "execute_result"
    }
   ],
   "source": [
    "sancho"
   ]
  },
  {
   "cell_type": "code",
   "execution_count": 8,
   "id": "5c0f253b",
   "metadata": {},
   "outputs": [
    {
     "ename": "AttributeError",
     "evalue": "'NoneType' object has no attribute 'transpose'",
     "output_type": "error",
     "traceback": [
      "\u001b[0;31m--------------------------------------------------------------\u001b[0m",
      "\u001b[0;31mAttributeError\u001b[0m               Traceback (most recent call last)",
      "\u001b[0;32m<ipython-input-8-437941f4e1fc>\u001b[0m in \u001b[0;36m<module>\u001b[0;34m\u001b[0m\n\u001b[1;32m      1\u001b[0m \u001b[0msancho\u001b[0m \u001b[0;34m=\u001b[0m \u001b[0msancho\u001b[0m\u001b[0;34m.\u001b[0m\u001b[0mset_index\u001b[0m\u001b[0;34m(\u001b[0m\u001b[0;34m'Statistic'\u001b[0m\u001b[0;34m,\u001b[0m\u001b[0minplace\u001b[0m\u001b[0;34m=\u001b[0m\u001b[0;32mTrue\u001b[0m\u001b[0;34m)\u001b[0m\u001b[0;34m\u001b[0m\u001b[0;34m\u001b[0m\u001b[0m\n\u001b[0;32m----> 2\u001b[0;31m \u001b[0msancho\u001b[0m \u001b[0;34m=\u001b[0m \u001b[0msancho\u001b[0m\u001b[0;34m.\u001b[0m\u001b[0mtranspose\u001b[0m\u001b[0;34m(\u001b[0m\u001b[0;34m)\u001b[0m\u001b[0;34m\u001b[0m\u001b[0;34m\u001b[0m\u001b[0m\n\u001b[0m",
      "\u001b[0;31mAttributeError\u001b[0m: 'NoneType' object has no attribute 'transpose'"
     ]
    }
   ],
   "source": [
    "sancho = sancho.set_index('Statistic',inplace=True)\n",
    "sancho = sancho.transpose()"
   ]
  },
  {
   "cell_type": "code",
   "execution_count": null,
   "id": "0ede6208",
   "metadata": {},
   "outputs": [],
   "source": [
    "sancho = sancho.T"
   ]
  },
  {
   "cell_type": "code",
   "execution_count": null,
   "id": "c4fb7988",
   "metadata": {},
   "outputs": [],
   "source": [
    "i = sancho.iloc[0].tolist()\n",
    "i += i[:]"
   ]
  },
  {
   "cell_type": "code",
   "execution_count": null,
   "id": "03ddf49f",
   "metadata": {},
   "outputs": [],
   "source": [
    "i += i[:]"
   ]
  },
  {
   "cell_type": "code",
   "execution_count": null,
   "id": "8987fa1b",
   "metadata": {
    "scrolled": false
   },
   "outputs": [],
   "source": [
    "AttNo = len(list(sancho))\n",
    "angles = [n / float(AttNo) * 2 * pi for n in range(AttNo)]\n",
    "angles += angles [:]\n",
    "angles = [n / float(AttNo) * 2 * pi for n in range(AttNo)]\n",
    "angles += angles [:]\n",
    "plt.xticks(angles,list(sancho))"
   ]
  },
  {
   "cell_type": "code",
   "execution_count": null,
   "id": "4acefad1",
   "metadata": {},
   "outputs": [],
   "source": [
    "def radar_chart(data):\n",
    "    \n",
    "    Attributes = list(data)\n",
    "    AttNo= len(Attributes)\n",
    "    values = data.iloc[0].tolist()\n",
    "    values += values [:]\n",
    "    angles = [n / float(AttNo) * 2 * pi for n in range(AttNo)]\n",
    "    angles += angles [:]\n",
    "    angles = [n / float(AttNo) * 2 * pi for n in range(AttNo)]\n",
    "    angles += angles [:]\n",
    "    ax = plt.subplot(111, polar=True)\n",
    "\n",
    "    #Add the attribute labels to our axes\n",
    "    plt.xticks(angles,Attributes)\n",
    "\n",
    "    #Plot the line around the outside of the filled area, using the angles and values calculated before\n",
    "    ax.plot(angles,values)\n",
    "\n",
    "    #Fill in the area plotted in the last line\n",
    "    ax.fill(angles, values, 'teal', alpha=0.1)\n",
    "\n",
    "    #Give the plot a title and show it\n",
    "    ax.set_title(\"Ronaldo\")\n",
    "    \n",
    "    return plt.show()"
   ]
  },
  {
   "cell_type": "markdown",
   "id": "5f1759ae",
   "metadata": {},
   "source": [
    "# Radar Chart Using MPLSoccer"
   ]
  },
  {
   "cell_type": "code",
   "execution_count": 11,
   "id": "a6b01c7c",
   "metadata": {},
   "outputs": [
    {
     "name": "stdout",
     "output_type": "stream",
     "text": [
      "3\n"
     ]
    }
   ],
   "source": [
    "print(len(list(sancho)))"
   ]
  },
  {
   "cell_type": "code",
   "execution_count": null,
   "id": "401134d6",
   "metadata": {},
   "outputs": [],
   "source": [
    "sancho.info()"
   ]
  },
  {
   "cell_type": "code",
   "execution_count": 14,
   "id": "1ad136cb",
   "metadata": {},
   "outputs": [],
   "source": [
    "params = list(sancho)\n",
    "low =  [0.08, 0.0, 0.1]\n",
    "high = [0.37, 0.6, 0.6]"
   ]
  },
  {
   "cell_type": "code",
   "execution_count": 16,
   "id": "0531b76b",
   "metadata": {},
   "outputs": [],
   "source": [
    "radar = Radar(params, low, high,\n",
    "              # whether to round any of the labels to integers instead of decimal places\n",
    "              \n",
    "              num_rings=4,  # the number of concentric circles (excluding center circle)\n",
    "              # if the ring_width is more than the center_circle_radius then\n",
    "              # the center circle radius will be wider than the width of the concentric circles\n",
    "              ring_width=1, center_circle_radius=1)"
   ]
  },
  {
   "cell_type": "code",
   "execution_count": 21,
   "id": "fc6c1093",
   "metadata": {},
   "outputs": [
    {
     "ename": "ValueError",
     "evalue": "The size of params and values must match",
     "output_type": "error",
     "traceback": [
      "\u001b[0;31m--------------------------------------------------------------\u001b[0m",
      "\u001b[0;31mValueError\u001b[0m                   Traceback (most recent call last)",
      "\u001b[0;32m<ipython-input-21-5980219ec3a0>\u001b[0m in \u001b[0;36m<module>\u001b[0;34m\u001b[0m\n\u001b[1;32m      1\u001b[0m \u001b[0mfig\u001b[0m\u001b[0;34m,\u001b[0m \u001b[0max\u001b[0m \u001b[0;34m=\u001b[0m \u001b[0mradar\u001b[0m\u001b[0;34m.\u001b[0m\u001b[0msetup_axis\u001b[0m\u001b[0;34m(\u001b[0m\u001b[0;34m)\u001b[0m  \u001b[0;31m# format axis as a radar\u001b[0m\u001b[0;34m\u001b[0m\u001b[0;34m\u001b[0m\u001b[0m\n\u001b[1;32m      2\u001b[0m \u001b[0mrings_inner\u001b[0m \u001b[0;34m=\u001b[0m \u001b[0mradar\u001b[0m\u001b[0;34m.\u001b[0m\u001b[0mdraw_circles\u001b[0m\u001b[0;34m(\u001b[0m\u001b[0max\u001b[0m\u001b[0;34m=\u001b[0m\u001b[0max\u001b[0m\u001b[0;34m,\u001b[0m \u001b[0mfacecolor\u001b[0m\u001b[0;34m=\u001b[0m\u001b[0;34m'#ffb2b2'\u001b[0m\u001b[0;34m,\u001b[0m \u001b[0medgecolor\u001b[0m\u001b[0;34m=\u001b[0m\u001b[0;34m'#fc5f5f'\u001b[0m\u001b[0;34m)\u001b[0m  \u001b[0;31m# draw circles\u001b[0m\u001b[0;34m\u001b[0m\u001b[0;34m\u001b[0m\u001b[0m\n\u001b[0;32m----> 3\u001b[0;31m radar_output = radar.draw_radar(sancho, ax=ax,\n\u001b[0m\u001b[1;32m      4\u001b[0m                                 \u001b[0mkwargs_radar\u001b[0m\u001b[0;34m=\u001b[0m\u001b[0;34m{\u001b[0m\u001b[0;34m'facecolor'\u001b[0m\u001b[0;34m:\u001b[0m \u001b[0;34m'#aa65b2'\u001b[0m\u001b[0;34m}\u001b[0m\u001b[0;34m,\u001b[0m\u001b[0;34m\u001b[0m\u001b[0;34m\u001b[0m\u001b[0m\n\u001b[1;32m      5\u001b[0m                                 kwargs_rings={'facecolor': '#66d8ba'})  # draw the radar\n",
      "\u001b[0;32m~/.pyenv/versions/3.8.6/envs/lewagon/lib/python3.8/site-packages/mplsoccer/radar_chart.py\u001b[0m in \u001b[0;36mdraw_radar\u001b[0;34m(self, values, ax, kwargs_radar, kwargs_rings)\u001b[0m\n\u001b[1;32m    242\u001b[0m         \u001b[0;32mif\u001b[0m \u001b[0mvalues\u001b[0m\u001b[0;34m.\u001b[0m\u001b[0msize\u001b[0m \u001b[0;34m!=\u001b[0m \u001b[0mself\u001b[0m\u001b[0;34m.\u001b[0m\u001b[0mparams\u001b[0m\u001b[0;34m.\u001b[0m\u001b[0msize\u001b[0m\u001b[0;34m:\u001b[0m\u001b[0;34m\u001b[0m\u001b[0;34m\u001b[0m\u001b[0m\n\u001b[1;32m    243\u001b[0m             \u001b[0mmsg\u001b[0m \u001b[0;34m=\u001b[0m \u001b[0;34m'The size of params and values must match'\u001b[0m\u001b[0;34m\u001b[0m\u001b[0;34m\u001b[0m\u001b[0m\n\u001b[0;32m--> 244\u001b[0;31m             \u001b[0;32mraise\u001b[0m \u001b[0mValueError\u001b[0m\u001b[0;34m(\u001b[0m\u001b[0mmsg\u001b[0m\u001b[0;34m)\u001b[0m\u001b[0;34m\u001b[0m\u001b[0;34m\u001b[0m\u001b[0m\n\u001b[0m\u001b[1;32m    245\u001b[0m         \u001b[0;31m# plot radar and outer rings, clip the outer rings to the radar\u001b[0m\u001b[0;34m\u001b[0m\u001b[0;34m\u001b[0m\u001b[0;34m\u001b[0m\u001b[0m\n\u001b[1;32m    246\u001b[0m         \u001b[0mradar\u001b[0m\u001b[0;34m,\u001b[0m \u001b[0mvertices\u001b[0m \u001b[0;34m=\u001b[0m \u001b[0mself\u001b[0m\u001b[0;34m.\u001b[0m\u001b[0m_draw_radar\u001b[0m\u001b[0;34m(\u001b[0m\u001b[0mvalues\u001b[0m\u001b[0;34m,\u001b[0m \u001b[0max\u001b[0m\u001b[0;34m=\u001b[0m\u001b[0max\u001b[0m\u001b[0;34m,\u001b[0m \u001b[0mzorder\u001b[0m\u001b[0;34m=\u001b[0m\u001b[0;36m1\u001b[0m\u001b[0;34m,\u001b[0m \u001b[0;34m**\u001b[0m\u001b[0mkwargs_radar\u001b[0m\u001b[0;34m)\u001b[0m\u001b[0;34m\u001b[0m\u001b[0;34m\u001b[0m\u001b[0m\n",
      "\u001b[0;31mValueError\u001b[0m: The size of params and values must match"
     ]
    },
    {
     "data": {
      "image/png": "[encoded data removed]",
      "text/plain": [
       "<Figure size 864x864 with 1 Axes>"
      ]
     },
     "metadata": {},
     "output_type": "display_data"
    }
   ],
   "source": [
    "fig, ax = radar.setup_axis()  # format axis as a radar\n",
    "rings_inner = radar.draw_circles(ax=ax, facecolor='#ffb2b2', edgecolor='#fc5f5f')  # draw circles\n",
    "radar_output = radar.draw_radar(sancho, ax=ax,\n",
    "                                kwargs_radar={'facecolor': '#aa65b2'},\n",
    "                                kwargs_rings={'facecolor': '#66d8ba'})  # draw the radar\n",
    "radar_poly, rings_outer, vertices = radar_output\n",
    "range_labels = radar.draw_range_labels(ax=ax, fontsize=15,\n",
    "                                       fontproperties=robotto_thin.prop)  # draw the range labels\n",
    "param_labels = radar.draw_param_labels(ax=ax, fontsize=15,\n",
    "                                       fontproperties=robotto_regular.prop)  # draw the param labels"
   ]
  }
 ],
 "metadata": {
  "kernelspec": {
   "display_name": "Python 3",
   "language": "python",
   "name": "python3"
  },
  "language_info": {
   "codemirror_mode": {
    "name": "ipython",
    "version": 3
   },
   "file_extension": ".py",
   "mimetype": "text/x-python",
   "name": "python",
   "nbconvert_exporter": "python",
   "pygments_lexer": "ipython3",
   "version": "3.8.6"
  },
  "toc": {
   "base_numbering": 1,
   "nav_menu": {},
   "number_sections": true,
   "sideBar": true,
   "skip_h1_title": false,
   "title_cell": "Table of Contents",
   "title_sidebar": "Contents",
   "toc_cell": false,
   "toc_position": {},
   "toc_section_display": true,
   "toc_window_display": false
  }
 },
 "nbformat": 4,
 "nbformat_minor": 5
}
