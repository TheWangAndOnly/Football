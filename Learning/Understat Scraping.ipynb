{
 "cells": [
  {
   "cell_type": "markdown",
   "id": "43de1d49",
   "metadata": {},
   "source": [
    "# Scraping data from Understat"
   ]
  },
  {
   "cell_type": "code",
   "execution_count": 4,
   "id": "bab82b85",
   "metadata": {},
   "outputs": [],
   "source": [
    "import pandas as pd \n",
    "import requests\n",
    "import numpy as np \n",
    "import json \n",
    "from bs4 import BeautifulSoup\n",
    "import matplotlib.pyplot as plt\n",
    "from mplsoccer import Pitch\n"
   ]
  },
  {
   "cell_type": "code",
   "execution_count": 1,
   "id": "f8c289a5",
   "metadata": {},
   "outputs": [
    {
     "name": "stdout",
     "output_type": "stream",
     "text": [
      "Please enter the match number you wish to collect data from: 1769\n"
     ]
    }
   ],
   "source": [
    "base_url = 'https://understat.com/match/'\n",
    "match = str(input('Please enter the match number you wish to collect data from: '))\n",
    "url = base_url + match"
   ]
  },
  {
   "cell_type": "code",
   "execution_count": 2,
   "id": "34e34303",
   "metadata": {},
   "outputs": [
    {
     "data": {
      "text/plain": [
       "'https://understat.com/match/1769'"
      ]
     },
     "execution_count": 2,
     "metadata": {},
     "output_type": "execute_result"
    }
   ],
   "source": [
    "url"
   ]
  },
  {
   "cell_type": "code",
   "execution_count": 5,
   "id": "446f7699",
   "metadata": {},
   "outputs": [],
   "source": [
    "response = requests.get(url)\n",
    "soup = BeautifulSoup(response.content, 'lxml')\n",
    "scripts = soup.find_all('script')"
   ]
  },
  {
   "cell_type": "code",
   "execution_count": 6,
   "id": "9973d421",
   "metadata": {},
   "outputs": [
    {
     "name": "stdout",
     "output_type": "stream",
     "text": [
      "\n",
      "\tvar rostersData\t= JSON.parse('\\x7B\\x22h\\x22\\x3A\\x7B\\x22102904\\x22\\x3A\\x7B\\x22id\\x22\\x3A\\x22102904\\x22,\\x22goals\\x22\\x3A\\x220\\x22,\\x22own_goals\\x22\\x3A\\x220\\x22,\\x22shots\\x22\\x3A\\x220\\x22,\\x22xG\\x22\\x3A\\x220\\x22,\\x22time\\x22\\x3A\\x2290\\x22,\\x22player_id\\x22\\x3A\\x222475\\x22,\\x22team_id\\x22\\x3A\\x22146\\x22,\\x22position\\x22\\x3A\\x22GK\\x22,\\x22player\\x22\\x3A\\x22Jaume\\x22,\\x22h_a\\x22\\x3A\\x22h\\x22,\\x22yellow_card\\x22\\x3A\\x220\\x22,\\x22red_card\\x22\\x3A\\x220\\x22,\\x22roster_in\\x22\\x3A\\x220\\x22,\\x22roster_out\\x22\\x3A\\x220\\x22,\\x22key_passes\\x22\\x3A\\x220\\x22,\\x22assists\\x22\\x3A\\x220\\x22,\\x22xA\\x22\\x3A\\x220\\x22,\\x22xGChain\\x22\\x3A\\x220.39202314615249634\\x22,\\x22xGBuildup\\x22\\x3A\\x220.39202314615249634\\x22,\\x22positionOrder\\x22\\x3A\\x221\\x22\\x7D,\\x22102905\\x22\\x3A\\x7B\\x22id\\x22\\x3A\\x22102905\\x22,\\x22goals\\x22\\x3A\\x220\\x22,\\x22own_goals\\x22\\x3A\\x220\\x22,\\x22shots\\x22\\x3A\\x220\\x22,\\x22xG\\x22\\x3A\\x220\\x22,\\x22time\\x22\\x3A\\x2257\\x22,\\x22player_id\\x22\\x3A\\x221706\\x22,\\x22team_id\\x22\\x3A\\x22146\\x22,\\x22position\\x22\\x3A\\x22DR\\x22,\\x22player\\x22\\x3A\\x22Antonio\\x20Barrag\\x5Cu00e1n\\x22,\\x22h_a\\x22\\x3A\\x22h\\x22,\\x22yellow_card\\x22\\x3A\\x220\\x22,\\x22red_card\\x22\\x3A\\x220\\x22,\\x22roster_in\\x22\\x3A\\x22102915\\x22,\\x22roster_out\\x22\\x3A\\x220\\x22,\\x22key_passes\\x22\\x3A\\x220\\x22,\\x22assists\\x22\\x3A\\x220\\x22,\\x22xA\\x22\\x3A\\x220\\x22,\\x22xGChain\\x22\\x3A\\x220.03307092562317848\\x22,\\x22xGBuildup\\x22\\x3A\\x220.03307092562317848\\x22,\\x22positionOrder\\x22\\x3A\\x222\\x22\\x7D,\\x22102907\\x22\\x3A\\x7B\\x22id\\x22\\x3A\\x22102907\\x22,\\x22goals\\x22\\x3A\\x220\\x22,\\x22own_goals\\x22\\x3A\\x220\\x22,\\x22shots\\x22\\x3A\\x220\\x22,\\x22xG\\x22\\x3A\\x220\\x22,\\x22time\\x22\\x3A\\x2290\\x22,\\x22player_id\\x22\\x3A\\x222386\\x22,\\x22team_id\\x22\\x3A\\x22146\\x22,\\x22position\\x22\\x3A\\x22DC\\x22,\\x22player\\x22\\x3A\\x22R\\x5Cu00faben\\x20Vezo\\x22,\\x22h_a\\x22\\x3A\\x22h\\x22,\\x22yellow_card\\x22\\x3A\\x221\\x22,\\x22red_card\\x22\\x3A\\x220\\x22,\\x22roster_in\\x22\\x3A\\x220\\x22,\\x22roster_out\\x22\\x3A\\x220\\x22,\\x22key_passes\\x22\\x3A\\x220\\x22,\\x22assists\\x22\\x3A\\x220\\x22,\\x22xA\\x22\\x3A\\x220\\x22,\\x22xGChain\\x22\\x3A\\x220.6839450597763062\\x22,\\x22xGBuildup\\x22\\x3A\\x220.6839450597763062\\x22,\\x22positionOrder\\x22\\x3A\\x223\\x22\\x7D,\\x22102906\\x22\\x3A\\x7B\\x22id\\x22\\x3A\\x22102906\\x22,\\x22goals\\x22\\x3A\\x220\\x22,\\x22own_goals\\x22\\x3A\\x220\\x22,\\x22shots\\x22\\x3A\\x221\\x22,\\x22xG\\x22\\x3A\\x220.13465948402881622\\x22,\\x22time\\x22\\x3A\\x2290\\x22,\\x22player_id\\x22\\x3A\\x222474\\x22,\\x22team_id\\x22\\x3A\\x22146\\x22,\\x22position\\x22\\x3A\\x22DC\\x22,\\x22player\\x22\\x3A\\x22Aderlan\\x20Santos\\x22,\\x22h_a\\x22\\x3A\\x22h\\x22,\\x22yellow_card\\x22\\x3A\\x220\\x22,\\x22red_card\\x22\\x3A\\x220\\x22,\\x22roster_in\\x22\\x3A\\x220\\x22,\\x22roster_out\\x22\\x3A\\x220\\x22,\\x22key_passes\\x22\\x3A\\x220\\x22,\\x22assists\\x22\\x3A\\x220\\x22,\\x22xA\\x22\\x3A\\x220\\x22,\\x22xGChain\\x22\\x3A\\x220.03307092562317848\\x22,\\x22xGBuildup\\x22\\x3A\\x220.03307092562317848\\x22,\\x22positionOrder\\x22\\x3A\\x223\\x22\\x7D,\\x22102908\\x22\\x3A\\x7B\\x22id\\x22\\x3A\\x22102908\\x22,\\x22goals\\x22\\x3A\\x220\\x22,\\x22own_goals\\x22\\x3A\\x220\\x22,\\x22shots\\x22\\x3A\\x220\\x22,\\x22xG\\x22\\x3A\\x220\\x22,\\x22time\\x22\\x3A\\x2290\\x22,\\x22player_id\\x22\\x3A\\x222375\\x22,\\x22team_id\\x22\\x3A\\x22146\\x22,\\x22position\\x22\\x3A\\x22DL\\x22,\\x22player\\x22\\x3A\\x22Guilherme\\x20Siqueira\\x22,\\x22h_a\\x22\\x3A\\x22h\\x22,\\x22yellow_card\\x22\\x3A\\x220\\x22,\\x22red_card\\x22\\x3A\\x220\\x22,\\x22roster_in\\x22\\x3A\\x220\\x22,\\x22roster_out\\x22\\x3A\\x220\\x22,\\x22key_passes\\x22\\x3A\\x220\\x22,\\x22assists\\x22\\x3A\\x220\\x22,\\x22xA\\x22\\x3A\\x220\\x22,\\x22xGChain\\x22\\x3A\\x220.4136856198310852\\x22,\\x22xGBuildup\\x22\\x3A\\x220.4136856198310852\\x22,\\x22positionOrder\\x22\\x3A\\x224\\x22\\x7D,\\x22102910\\x22\\x3A\\x7B\\x22id\\x22\\x3A\\x22102910\\x22,\\x22goals\\x22\\x3A\\x220\\x22,\\x22own_goals\\x22\\x3A\\x220\\x22,\\x22shots\\x22\\x3A\\x221\\x22,\\x22xG\\x22\\x3A\\x220.02052423357963562\\x22,\\x22time\\x22\\x3A\\x2290\\x22,\\x22player_id\\x22\\x3A\\x222378\\x22,\\x22team_id\\x22\\x3A\\x22146\\x22,\\x22position\\x22\\x3A\\x22MC\\x22,\\x22player\\x22\\x3A\\x22Daniel\\x20Parejo\\x22,\\x22h_a\\x22\\x3A\\x22h\\x22,\\x22yellow_card\\x22\\x3A\\x220\\x22,\\x22red_card\\x22\\x3A\\x220\\x22,\\x22roster_in\\x22\\x3A\\x220\\x22,\\x22roster_out\\x22\\x3A\\x220\\x22,\\x22key_passes\\x22\\x3A\\x221\\x22,\\x22assists\\x22\\x3A\\x220\\x22,\\x22xA\\x22\\x3A\\x220.13465948402881622\\x22,\\x22xGChain\\x22\\x3A\\x220.7603718638420105\\x22,\\x22xGBuildup\\x22\\x3A\\x220.7398476004600525\\x22,\\x22positionOrder\\x22\\x3A\\x229\\x22\\x7D,\\x22102911\\x22\\x3A\\x7B\\x22id\\x22\\x3A\\x22102911\\x22,\\x22goals\\x22\\x3A\\x220\\x22,\\x22own_goals\\x22\\x3A\\x220\\x22,\\x22shots\\x22\\x3A\\x220\\x22,\\x22xG\\x22\\x3A\\x220\\x22,\\x22time\\x22\\x3A\\x2290\\x22,\\x22player_id\\x22\\x3A\\x222387\\x22,\\x22team_id\\x22\\x3A\\x22146\\x22,\\x22position\\x22\\x3A\\x22MC\\x22,\\x22player\\x22\\x3A\\x22Danilo\\x22,\\x22h_a\\x22\\x3A\\x22h\\x22,\\x22yellow_card\\x22\\x3A\\x220\\x22,\\x22red_card\\x22\\x3A\\x220\\x22,\\x22roster_in\\x22\\x3A\\x220\\x22,\\x22roster_out\\x22\\x3A\\x220\\x22,\\x22key_passes\\x22\\x3A\\x222\\x22,\\x22assists\\x22\\x3A\\x220\\x22,\\x22xA\\x22\\x3A\\x220.05473340302705765\\x22,\\x22xGChain\\x22\\x3A\\x220.05473340302705765\\x22,\\x22xGBuildup\\x22\\x3A\\x220\\x22,\\x22positionOrder\\x22\\x3A\\x229\\x22\\x7D,\\x22102909\\x22\\x3A\\x7B\\x22id\\x22\\x3A\\x22102909\\x22,\\x22goals\\x22\\x3A\\x220\\x22,\\x22own_goals\\x22\\x3A\\x220\\x22,\\x22shots\\x22\\x3A\\x221\\x22,\\x22xG\\x22\\x3A\\x220.021662477403879166\\x22,\\x22time\\x22\\x3A\\x2285\\x22,\\x22player_id\\x22\\x3A\\x222383\\x22,\\x22team_id\\x22\\x3A\\x22146\\x22,\\x22position\\x22\\x3A\\x22MC\\x22,\\x22player\\x22\\x3A\\x22Andr\\x5Cu00e9\\x20Gomes\\x22,\\x22h_a\\x22\\x3A\\x22h\\x22,\\x22yellow_card\\x22\\x3A\\x221\\x22,\\x22red_card\\x22\\x3A\\x220\\x22,\\x22roster_in\\x22\\x3A\\x22102916\\x22,\\x22roster_out\\x22\\x3A\\x220\\x22,\\x22key_passes\\x22\\x3A\\x222\\x22,\\x22assists\\x22\\x3A\\x220\\x22,\\x22xA\\x22\\x3A\\x220.2930910885334015\\x22,\\x22xGChain\\x22\\x3A\\x220.335277795791626\\x22,\\x22xGBuildup\\x22\\x3A\\x220.02052423357963562\\x22,\\x22positionOrder\\x22\\x3A\\x229\\x22\\x7D,\\x22102912\\x22\\x3A\\x7B\\x22id\\x22\\x3A\\x22102912\\x22,\\x22goals\\x22\\x3A\\x220\\x22,\\x22own_goals\\x22\\x3A\\x220\\x22,\\x22shots\\x22\\x3A\\x221\\x22,\\x22xG\\x22\\x3A\\x220.27025943994522095\\x22,\\x22time\\x22\\x3A\\x2290\\x22,\\x22player_id\\x22\\x3A\\x222384\\x22,\\x22team_id\\x22\\x3A\\x22146\\x22,\\x22position\\x22\\x3A\\x22FWR\\x22,\\x22player\\x22\\x3A\\x22Santi\\x20Mina\\x22,\\x22h_a\\x22\\x3A\\x22h\\x22,\\x22yellow_card\\x22\\x3A\\x220\\x22,\\x22red_card\\x22\\x3A\\x220\\x22,\\x22roster_in\\x22\\x3A\\x220\\x22,\\x22roster_out\\x22\\x3A\\x220\\x22,\\x22key_passes\\x22\\x3A\\x220\\x22,\\x22assists\\x22\\x3A\\x220\\x22,\\x22xA\\x22\\x3A\\x220\\x22,\\x22xGChain\\x22\\x3A\\x220.27025943994522095\\x22,\\x22xGBuildup\\x22\\x3A\\x220.27025943994522095\\x22,\\x22positionOrder\\x22\\x3A\\x2214\\x22\\x7D,\\x22102913\\x22\\x3A\\x7B\\x22id\\x22\\x3A\\x22102913\\x22,\\x22goals\\x22\\x3A\\x220\\x22,\\x22own_goals\\x22\\x3A\\x220\\x22,\\x22shots\\x22\\x3A\\x221\\x22,\\x22xG\\x22\\x3A\\x220.02283162996172905\\x22,\\x22time\\x22\\x3A\\x2290\\x22,\\x22player_id\\x22\\x3A\\x222380\\x22,\\x22team_id\\x22\\x3A\\x22146\\x22,\\x22position\\x22\\x3A\\x22FW\\x22,\\x22player\\x22\\x3A\\x22Paco\\x20Alc\\x5Cu00e1cer\\x22,\\x22h_a\\x22\\x3A\\x22h\\x22,\\x22yellow_card\\x22\\x3A\\x220\\x22,\\x22red_card\\x22\\x3A\\x220\\x22,\\x22roster_in\\x22\\x3A\\x220\\x22,\\x22roster_out\\x22\\x3A\\x220\\x22,\\x22key_passes\\x22\\x3A\\x222\\x22,\\x22assists\\x22\\x3A\\x220\\x22,\\x22xA\\x22\\x3A\\x220.41254737973213196\\x22,\\x22xGChain\\x22\\x3A\\x220.4353789985179901\\x22,\\x22xGBuildup\\x22\\x3A\\x220\\x22,\\x22positionOrder\\x22\\x3A\\x2215\\x22\\x7D,\\x22102914\\x22\\x3A\\x7B\\x22id\\x22\\x3A\\x22102914\\x22,\\x22goals\\x22\\x3A\\x220\\x22,\\x22own_goals\\x22\\x3A\\x220\\x22,\\x22shots\\x22\\x3A\\x221\\x22,\\x22xG\\x22\\x3A\\x220.03307092562317848\\x22,\\x22time\\x22\\x3A\\x2238\\x22,\\x22player_id\\x22\\x3A\\x222382\\x22,\\x22team_id\\x22\\x3A\\x22146\\x22,\\x22position\\x22\\x3A\\x22FWL\\x22,\\x22player\\x22\\x3A\\x22Pablo\\x20Piatti\\x22,\\x22h_a\\x22\\x3A\\x22h\\x22,\\x22yellow_card\\x22\\x3A\\x220\\x22,\\x22red_card\\x22\\x3A\\x220\\x22,\\x22roster_in\\x22\\x3A\\x22102917\\x22,\\x22roster_out\\x22\\x3A\\x220\\x22,\\x22key_passes\\x22\\x3A\\x220\\x22,\\x22assists\\x22\\x3A\\x220\\x22,\\x22xA\\x22\\x3A\\x220\\x22,\\x22xGChain\\x22\\x3A\\x220.03307092562317848\\x22,\\x22xGBuildup\\x22\\x3A\\x220\\x22,\\x22positionOrder\\x22\\x3A\\x2216\\x22\\x7D,\\x22102916\\x22\\x3A\\x7B\\x22id\\x22\\x3A\\x22102916\\x22,\\x22goals\\x22\\x3A\\x220\\x22,\\x22own_goals\\x22\\x3A\\x220\\x22,\\x22shots\\x22\\x3A\\x222\\x22,\\x22xG\\x22\\x3A\\x220.41518524289131165\\x22,\\x22time\\x22\\x3A\\x225\\x22,\\x22player_id\\x22\\x3A\\x221715\\x22,\\x22team_id\\x22\\x3A\\x22146\\x22,\\x22position\\x22\\x3A\\x22Sub\\x22,\\x22player\\x22\\x3A\\x22\\x5Cu00c1lvaro\\x20Negredo\\x22,\\x22h_a\\x22\\x3A\\x22h\\x22,\\x22yellow_card\\x22\\x3A\\x220\\x22,\\x22red_card\\x22\\x3A\\x220\\x22,\\x22roster_in\\x22\\x3A\\x220\\x22,\\x22roster_out\\x22\\x3A\\x22102909\\x22,\\x22key_passes\\x22\\x3A\\x220\\x22,\\x22assists\\x22\\x3A\\x220\\x22,\\x22xA\\x22\\x3A\\x220\\x22,\\x22xGChain\\x22\\x3A\\x220.41518524289131165\\x22,\\x22xGBuildup\\x22\\x3A\\x220\\x22,\\x22positionOrder\\x22\\x3A\\x2217\\x22\\x7D,\\x22102917\\x22\\x3A\\x7B\\x22id\\x22\\x3A\\x22102917\\x22,\\x22goals\\x22\\x3A\\x220\\x22,\\x22own_goals\\x22\\x3A\\x220\\x22,\\x22shots\\x22\\x3A\\x220\\x22,\\x22xG\\x22\\x3A\\x220\\x22,\\x22time\\x22\\x3A\\x2252\\x22,\\x22player_id\\x22\\x3A\\x222476\\x22,\\x22team_id\\x22\\x3A\\x22146\\x22,\\x22position\\x22\\x3A\\x22Sub\\x22,\\x22player\\x22\\x3A\\x22Sito\\x22,\\x22h_a\\x22\\x3A\\x22h\\x22,\\x22yellow_card\\x22\\x3A\\x220\\x22,\\x22red_card\\x22\\x3A\\x220\\x22,\\x22roster_in\\x22\\x3A\\x220\\x22,\\x22roster_out\\x22\\x3A\\x22102914\\x22,\\x22key_passes\\x22\\x3A\\x220\\x22,\\x22assists\\x22\\x3A\\x220\\x22,\\x22xA\\x22\\x3A\\x220\\x22,\\x22xGChain\\x22\\x3A\\x220\\x22,\\x22xGBuildup\\x22\\x3A\\x220\\x22,\\x22positionOrder\\x22\\x3A\\x2217\\x22\\x7D,\\x22102915\\x22\\x3A\\x7B\\x22id\\x22\\x3A\\x22102915\\x22,\\x22goals\\x22\\x3A\\x220\\x22,\\x22own_goals\\x22\\x3A\\x220\\x22,\\x22shots\\x22\\x3A\\x220\\x22,\\x22xG\\x22\\x3A\\x220\\x22,\\x22time\\x22\\x3A\\x2233\\x22,\\x22player_id\\x22\\x3A\\x222379\\x22,\\x22team_id\\x22\\x3A\\x22146\\x22,\\x22position\\x22\\x3A\\x22Sub\\x22,\\x22player\\x22\\x3A\\x22Jo\\x5Cu00e3o\\x20Cancelo\\x22,\\x22h_a\\x22\\x3A\\x22h\\x22,\\x22yellow_card\\x22\\x3A\\x220\\x22,\\x22red_card\\x22\\x3A\\x220\\x22,\\x22roster_in\\x22\\x3A\\x220\\x22,\\x22roster_out\\x22\\x3A\\x22102905\\x22,\\x22key_passes\\x22\\x3A\\x220\\x22,\\x22assists\\x22\\x3A\\x220\\x22,\\x22xA\\x22\\x3A\\x220\\x22,\\x22xGChain\\x22\\x3A\\x220.4136856198310852\\x22,\\x22xGBuildup\\x22\\x3A\\x220.4136856198310852\\x22,\\x22positionOrder\\x22\\x3A\\x2217\\x22\\x7D\\x7D,\\x22a\\x22\\x3A\\x7B\\x22102918\\x22\\x3A\\x7B\\x22id\\x22\\x3A\\x22102918\\x22,\\x22goals\\x22\\x3A\\x220\\x22,\\x22own_goals\\x22\\x3A\\x220\\x22,\\x22shots\\x22\\x3A\\x220\\x22,\\x22xG\\x22\\x3A\\x220\\x22,\\x22time\\x22\\x3A\\x2290\\x22,\\x22player_id\\x22\\x3A\\x222225\\x22,\\x22team_id\\x22\\x3A\\x22140\\x22,\\x22position\\x22\\x3A\\x22GK\\x22,\\x22player\\x22\\x3A\\x22Ger\\x5Cu00f3nimo\\x20Rulli\\x22,\\x22h_a\\x22\\x3A\\x22a\\x22,\\x22yellow_card\\x22\\x3A\\x220\\x22,\\x22red_card\\x22\\x3A\\x220\\x22,\\x22roster_in\\x22\\x3A\\x220\\x22,\\x22roster_out\\x22\\x3A\\x220\\x22,\\x22key_passes\\x22\\x3A\\x220\\x22,\\x22assists\\x22\\x3A\\x220\\x22,\\x22xA\\x22\\x3A\\x220\\x22,\\x22xGChain\\x22\\x3A\\x220.35424843430519104\\x22,\\x22xGBuildup\\x22\\x3A\\x220.35424843430519104\\x22,\\x22positionOrder\\x22\\x3A\\x221\\x22\\x7D,\\x22102919\\x22\\x3A\\x7B\\x22id\\x22\\x3A\\x22102919\\x22,\\x22goals\\x22\\x3A\\x220\\x22,\\x22own_goals\\x22\\x3A\\x220\\x22,\\x22shots\\x22\\x3A\\x222\\x22,\\x22xG\\x22\\x3A\\x220.12171369045972824\\x22,\\x22time\\x22\\x3A\\x2290\\x22,\\x22player_id\\x22\\x3A\\x222228\\x22,\\x22team_id\\x22\\x3A\\x22140\\x22,\\x22position\\x22\\x3A\\x22DR\\x22,\\x22player\\x22\\x3A\\x22Aritz\\x20Elustondo\\x22,\\x22h_a\\x22\\x3A\\x22a\\x22,\\x22yellow_card\\x22\\x3A\\x220\\x22,\\x22red_card\\x22\\x3A\\x220\\x22,\\x22roster_in\\x22\\x3A\\x220\\x22,\\x22roster_out\\x22\\x3A\\x220\\x22,\\x22key_passes\\x22\\x3A\\x220\\x22,\\x22assists\\x22\\x3A\\x220\\x22,\\x22xA\\x22\\x3A\\x220\\x22,\\x22xGChain\\x22\\x3A\\x220.02254064381122589\\x22,\\x22xGBuildup\\x22\\x3A\\x220\\x22,\\x22positionOrder\\x22\\x3A\\x222\\x22\\x7D,\\x22102921\\x22\\x3A\\x7B\\x22id\\x22\\x3A\\x22102921\\x22,\\x22goals\\x22\\x3A\\x220\\x22,\\x22own_goals\\x22\\x3A\\x220\\x22,\\x22shots\\x22\\x3A\\x221\\x22,\\x22xG\\x22\\x3A\\x220.011607177555561066\\x22,\\x22time\\x22\\x3A\\x2290\\x22,\\x22player_id\\x22\\x3A\\x222227\\x22,\\x22team_id\\x22\\x3A\\x22140\\x22,\\x22position\\x22\\x3A\\x22DC\\x22,\\x22player\\x22\\x3A\\x22Mikel\\x20Gonz\\x5Cu00e1lez\\x22,\\x22h_a\\x22\\x3A\\x22a\\x22,\\x22yellow_card\\x22\\x3A\\x220\\x22,\\x22red_card\\x22\\x3A\\x220\\x22,\\x22roster_in\\x22\\x3A\\x220\\x22,\\x22roster_out\\x22\\x3A\\x220\\x22,\\x22key_passes\\x22\\x3A\\x220\\x22,\\x22assists\\x22\\x3A\\x220\\x22,\\x22xA\\x22\\x3A\\x220\\x22,\\x22xGChain\\x22\\x3A\\x220.02254064381122589\\x22,\\x22xGBuildup\\x22\\x3A\\x220.02254064381122589\\x22,\\x22positionOrder\\x22\\x3A\\x223\\x22\\x7D,\\x22102920\\x22\\x3A\\x7B\\x22id\\x22\\x3A\\x22102920\\x22,\\x22goals\\x22\\x3A\\x220\\x22,\\x22own_goals\\x22\\x3A\\x220\\x22,\\x22shots\\x22\\x3A\\x220\\x22,\\x22xG\\x22\\x3A\\x220\\x22,\\x22time\\x22\\x3A\\x2290\\x22,\\x22player_id\\x22\\x3A\\x222236\\x22,\\x22team_id\\x22\\x3A\\x22140\\x22,\\x22position\\x22\\x3A\\x22DC\\x22,\\x22player\\x22\\x3A\\x22Diego\\x20Reyes\\x22,\\x22h_a\\x22\\x3A\\x22a\\x22,\\x22yellow_card\\x22\\x3A\\x220\\x22,\\x22red_card\\x22\\x3A\\x220\\x22,\\x22roster_in\\x22\\x3A\\x220\\x22,\\x22roster_out\\x22\\x3A\\x220\\x22,\\x22key_passes\\x22\\x3A\\x220\\x22,\\x22assists\\x22\\x3A\\x220\\x22,\\x22xA\\x22\\x3A\\x220\\x22,\\x22xGChain\\x22\\x3A\\x220.028342267498373985\\x22,\\x22xGBuildup\\x22\\x3A\\x220.028342267498373985\\x22,\\x22positionOrder\\x22\\x3A\\x223\\x22\\x7D,\\x22102922\\x22\\x3A\\x7B\\x22id\\x22\\x3A\\x22102922\\x22,\\x22goals\\x22\\x3A\\x220\\x22,\\x22own_goals\\x22\\x3A\\x220\\x22,\\x22shots\\x22\\x3A\\x220\\x22,\\x22xG\\x22\\x3A\\x220\\x22,\\x22time\\x22\\x3A\\x2290\\x22,\\x22player_id\\x22\\x3A\\x222239\\x22,\\x22team_id\\x22\\x3A\\x22140\\x22,\\x22position\\x22\\x3A\\x22DL\\x22,\\x22player\\x22\\x3A\\x22Alberto\\x20De\\x20la\\x20Bella\\x22,\\x22h_a\\x22\\x3A\\x22a\\x22,\\x22yellow_card\\x22\\x3A\\x220\\x22,\\x22red_card\\x22\\x3A\\x220\\x22,\\x22roster_in\\x22\\x3A\\x220\\x22,\\x22roster_out\\x22\\x3A\\x220\\x22,\\x22key_passes\\x22\\x3A\\x222\\x22,\\x22assists\\x22\\x3A\\x221\\x22,\\x22xA\\x22\\x3A\\x220.1346329301595688\\x22,\\x22xGChain\\x22\\x3A\\x220.35424843430519104\\x22,\\x22xGBuildup\\x22\\x3A\\x220.35424843430519104\\x22,\\x22positionOrder\\x22\\x3A\\x224\\x22\\x7D,\\x22102924\\x22\\x3A\\x7B\\x22id\\x22\\x3A\\x22102924\\x22,\\x22goals\\x22\\x3A\\x220\\x22,\\x22own_goals\\x22\\x3A\\x220\\x22,\\x22shots\\x22\\x3A\\x220\\x22,\\x22xG\\x22\\x3A\\x220\\x22,\\x22time\\x22\\x3A\\x2285\\x22,\\x22player_id\\x22\\x3A\\x222242\\x22,\\x22team_id\\x22\\x3A\\x22140\\x22,\\x22position\\x22\\x3A\\x22DMC\\x22,\\x22player\\x22\\x3A\\x22Rub\\x5Cu00e9n\\x20Pardo\\x22,\\x22h_a\\x22\\x3A\\x22a\\x22,\\x22yellow_card\\x22\\x3A\\x220\\x22,\\x22red_card\\x22\\x3A\\x220\\x22,\\x22roster_in\\x22\\x3A\\x22102931\\x22,\\x22roster_out\\x22\\x3A\\x220\\x22,\\x22key_passes\\x22\\x3A\\x223\\x22,\\x22assists\\x22\\x3A\\x220\\x22,\\x22xA\\x22\\x3A\\x220.1853073239326477\\x22,\\x22xGChain\\x22\\x3A\\x220.08707403391599655\\x22,\\x22xGBuildup\\x22\\x3A\\x220.04209630563855171\\x22,\\x22positionOrder\\x22\\x3A\\x227\\x22\\x7D,\\x22102923\\x22\\x3A\\x7B\\x22id\\x22\\x3A\\x22102923\\x22,\\x22goals\\x22\\x3A\\x220\\x22,\\x22own_goals\\x22\\x3A\\x220\\x22,\\x22shots\\x22\\x3A\\x220\\x22,\\x22xG\\x22\\x3A\\x220\\x22,\\x22time\\x22\\x3A\\x2290\\x22,\\x22player_id\\x22\\x3A\\x222232\\x22,\\x22team_id\\x22\\x3A\\x22140\\x22,\\x22position\\x22\\x3A\\x22DMC\\x22,\\x22player\\x22\\x3A\\x22Asier\\x20Illarramendi\\x22,\\x22h_a\\x22\\x3A\\x22a\\x22,\\x22yellow_card\\x22\\x3A\\x221\\x22,\\x22red_card\\x22\\x3A\\x220\\x22,\\x22roster_in\\x22\\x3A\\x220\\x22,\\x22roster_out\\x22\\x3A\\x220\\x22,\\x22key_passes\\x22\\x3A\\x221\\x22,\\x22assists\\x22\\x3A\\x220\\x22,\\x22xA\\x22\\x3A\\x220.045954782515764236\\x22,\\x22xGChain\\x22\\x3A\\x220.34052014350891113\\x22,\\x22xGBuildup\\x22\\x3A\\x220.34052014350891113\\x22,\\x22positionOrder\\x22\\x3A\\x227\\x22\\x7D,\\x22102925\\x22\\x3A\\x7B\\x22id\\x22\\x3A\\x22102925\\x22,\\x22goals\\x22\\x3A\\x220\\x22,\\x22own_goals\\x22\\x3A\\x220\\x22,\\x22shots\\x22\\x3A\\x221\\x22,\\x22xG\\x22\\x3A\\x220.04115653410553932\\x22,\\x22time\\x22\\x3A\\x2275\\x22,\\x22player_id\\x22\\x3A\\x222233\\x22,\\x22team_id\\x22\\x3A\\x22140\\x22,\\x22position\\x22\\x3A\\x22AMR\\x22,\\x22player\\x22\\x3A\\x22Xabi\\x20Prieto\\x22,\\x22h_a\\x22\\x3A\\x22a\\x22,\\x22yellow_card\\x22\\x3A\\x220\\x22,\\x22red_card\\x22\\x3A\\x220\\x22,\\x22roster_in\\x22\\x3A\\x22102929\\x22,\\x22roster_out\\x22\\x3A\\x220\\x22,\\x22key_passes\\x22\\x3A\\x220\\x22,\\x22assists\\x22\\x3A\\x220\\x22,\\x22xA\\x22\\x3A\\x220\\x22,\\x22xGChain\\x22\\x3A\\x220.013754037208855152\\x22,\\x22xGBuildup\\x22\\x3A\\x220.013754037208855152\\x22,\\x22positionOrder\\x22\\x3A\\x2211\\x22\\x7D,\\x22102926\\x22\\x3A\\x7B\\x22id\\x22\\x3A\\x22102926\\x22,\\x22goals\\x22\\x3A\\x221\\x22,\\x22own_goals\\x22\\x3A\\x220\\x22,\\x22shots\\x22\\x3A\\x222\\x22,\\x22xG\\x22\\x3A\\x220.1346329301595688\\x22,\\x22time\\x22\\x3A\\x2290\\x22,\\x22player_id\\x22\\x3A\\x222234\\x22,\\x22team_id\\x22\\x3A\\x22140\\x22,\\x22position\\x22\\x3A\\x22AMC\\x22,\\x22player\\x22\\x3A\\x22Mikel\\x20Oyarzabal\\x22,\\x22h_a\\x22\\x3A\\x22a\\x22,\\x22yellow_card\\x22\\x3A\\x220\\x22,\\x22red_card\\x22\\x3A\\x220\\x22,\\x22roster_in\\x22\\x3A\\x220\\x22,\\x22roster_out\\x22\\x3A\\x220\\x22,\\x22key_passes\\x22\\x3A\\x223\\x22,\\x22assists\\x22\\x3A\\x220\\x22,\\x22xA\\x22\\x3A\\x220.37261754274368286\\x22,\\x22xGChain\\x22\\x3A\\x220.4976937174797058\\x22,\\x22xGBuildup\\x22\\x3A\\x220.02254064381122589\\x22,\\x22positionOrder\\x22\\x3A\\x2212\\x22\\x7D,\\x22102927\\x22\\x3A\\x7B\\x22id\\x22\\x3A\\x22102927\\x22,\\x22goals\\x22\\x3A\\x220\\x22,\\x22own_goals\\x22\\x3A\\x220\\x22,\\x22shots\\x22\\x3A\\x222\\x22,\\x22xG\\x22\\x3A\\x220.11394327878952026\\x22,\\x22time\\x22\\x3A\\x2290\\x22,\\x22player_id\\x22\\x3A\\x222230\\x22,\\x22team_id\\x22\\x3A\\x22140\\x22,\\x22position\\x22\\x3A\\x22AML\\x22,\\x22player\\x22\\x3A\\x22David\\x20Zurutuza\\x22,\\x22h_a\\x22\\x3A\\x22a\\x22,\\x22yellow_card\\x22\\x3A\\x220\\x22,\\x22red_card\\x22\\x3A\\x220\\x22,\\x22roster_in\\x22\\x3A\\x220\\x22,\\x22roster_out\\x22\\x3A\\x220\\x22,\\x22key_passes\\x22\\x3A\\x221\\x22,\\x22assists\\x22\\x3A\\x220\\x22,\\x22xA\\x22\\x3A\\x220.02254064381122589\\x22,\\x22xGChain\\x22\\x3A\\x220.490732342004776\\x22,\\x22xGBuildup\\x22\\x3A\\x220.37678906321525574\\x22,\\x22positionOrder\\x22\\x3A\\x2213\\x22\\x7D,\\x22102928\\x22\\x3A\\x7B\\x22id\\x22\\x3A\\x22102928\\x22,\\x22goals\\x22\\x3A\\x220\\x22,\\x22own_goals\\x22\\x3A\\x220\\x22,\\x22shots\\x22\\x3A\\x221\\x22,\\x22xG\\x22\\x3A\\x220.014613994397222996\\x22,\\x22time\\x22\\x3A\\x2259\\x22,\\x22player_id\\x22\\x3A\\x222238\\x22,\\x22team_id\\x22\\x3A\\x22140\\x22,\\x22position\\x22\\x3A\\x22FW\\x22,\\x22player\\x22\\x3A\\x22Jon\\x20Bautista\\x22,\\x22h_a\\x22\\x3A\\x22a\\x22,\\x22yellow_card\\x22\\x3A\\x221\\x22,\\x22red_card\\x22\\x3A\\x220\\x22,\\x22roster_in\\x22\\x3A\\x22102930\\x22,\\x22roster_out\\x22\\x3A\\x220\\x22,\\x22key_passes\\x22\\x3A\\x221\\x22,\\x22assists\\x22\\x3A\\x220\\x22,\\x22xA\\x22\\x3A\\x220.013754037208855152\\x22,\\x22xGChain\\x22\\x3A\\x220.028368031606078148\\x22,\\x22xGBuildup\\x22\\x3A\\x220\\x22,\\x22positionOrder\\x22\\x3A\\x2215\\x22\\x7D,\\x22102930\\x22\\x3A\\x7B\\x22id\\x22\\x3A\\x22102930\\x22,\\x22goals\\x22\\x3A\\x220\\x22,\\x22own_goals\\x22\\x3A\\x220\\x22,\\x22shots\\x22\\x3A\\x225\\x22,\\x22xG\\x22\\x3A\\x220.5136520862579346\\x22,\\x22time\\x22\\x3A\\x2231\\x22,\\x22player_id\\x22\\x3A\\x222235\\x22,\\x22team_id\\x22\\x3A\\x22140\\x22,\\x22position\\x22\\x3A\\x22Sub\\x22,\\x22player\\x22\\x3A\\x22Bruma\\x22,\\x22h_a\\x22\\x3A\\x22a\\x22,\\x22yellow_card\\x22\\x3A\\x220\\x22,\\x22red_card\\x22\\x3A\\x220\\x22,\\x22roster_in\\x22\\x3A\\x220\\x22,\\x22roster_out\\x22\\x3A\\x22102928\\x22,\\x22key_passes\\x22\\x3A\\x220\\x22,\\x22assists\\x22\\x3A\\x220\\x22,\\x22xA\\x22\\x3A\\x220\\x22,\\x22xGChain\\x22\\x3A\\x220.5491253137588501\\x22,\\x22xGBuildup\\x22\\x3A\\x220.10018923878669739\\x22,\\x22positionOrder\\x22\\x3A\\x2217\\x22\\x7D,\\x22102931\\x22\\x3A\\x7B\\x22id\\x22\\x3A\\x22102931\\x22,\\x22goals\\x22\\x3A\\x220\\x22,\\x22own_goals\\x22\\x3A\\x220\\x22,\\x22shots\\x22\\x3A\\x220\\x22,\\x22xG\\x22\\x3A\\x220\\x22,\\x22time\\x22\\x3A\\x225\\x22,\\x22player_id\\x22\\x3A\\x222417\\x22,\\x22team_id\\x22\\x3A\\x22140\\x22,\\x22position\\x22\\x3A\\x22Sub\\x22,\\x22player\\x22\\x3A\\x22Igor\\x20Zubeldia\\x22,\\x22h_a\\x22\\x3A\\x22a\\x22,\\x22yellow_card\\x22\\x3A\\x220\\x22,\\x22red_card\\x22\\x3A\\x220\\x22,\\x22roster_in\\x22\\x3A\\x220\\x22,\\x22roster_out\\x22\\x3A\\x22102924\\x22,\\x22key_passes\\x22\\x3A\\x220\\x22,\\x22assists\\x22\\x3A\\x220\\x22,\\x22xA\\x22\\x3A\\x220\\x22,\\x22xGChain\\x22\\x3A\\x220\\x22,\\x22xGBuildup\\x22\\x3A\\x220\\x22,\\x22positionOrder\\x22\\x3A\\x2217\\x22\\x7D,\\x22102929\\x22\\x3A\\x7B\\x22id\\x22\\x3A\\x22102929\\x22,\\x22goals\\x22\\x3A\\x220\\x22,\\x22own_goals\\x22\\x3A\\x220\\x22,\\x22shots\\x22\\x3A\\x220\\x22,\\x22xG\\x22\\x3A\\x220\\x22,\\x22time\\x22\\x3A\\x2215\\x22,\\x22player_id\\x22\\x3A\\x222480\\x22,\\x22team_id\\x22\\x3A\\x22140\\x22,\\x22position\\x22\\x3A\\x22Sub\\x22,\\x22player\\x22\\x3A\\x22Jonathas\\x22,\\x22h_a\\x22\\x3A\\x22a\\x22,\\x22yellow_card\\x22\\x3A\\x220\\x22,\\x22red_card\\x22\\x3A\\x220\\x22,\\x22roster_in\\x22\\x3A\\x220\\x22,\\x22roster_out\\x22\\x3A\\x22102925\\x22,\\x22key_passes\\x22\\x3A\\x221\\x22,\\x22assists\\x22\\x3A\\x220\\x22,\\x22xA\\x22\\x3A\\x220.10018923878669739\\x22,\\x22xGChain\\x22\\x3A\\x220.10018923878669739\\x22,\\x22xGBuildup\\x22\\x3A\\x220\\x22,\\x22positionOrder\\x22\\x3A\\x2217\\x22\\x7D\\x7D\\x7D');\n",
      "\n"
     ]
    }
   ],
   "source": [
    "print(scripts[2].string)"
   ]
  },
  {
   "cell_type": "code",
   "execution_count": 7,
   "id": "6c09fa0c",
   "metadata": {},
   "outputs": [],
   "source": [
    "strings = scripts[1].string"
   ]
  },
  {
   "cell_type": "code",
   "execution_count": 8,
   "id": "c2c2b488",
   "metadata": {},
   "outputs": [],
   "source": [
    "index_start = strings.index(\"('\")+2\n",
    "index_end = strings.index(\"')\")\n",
    "\n",
    "json_data = strings[index_start:index_end]\n",
    "json_data = json_data.encode('utf8').decode('unicode_escape')"
   ]
  },
  {
   "cell_type": "code",
   "execution_count": 9,
   "id": "657b1104",
   "metadata": {},
   "outputs": [],
   "source": [
    "data = json.loads(json_data)"
   ]
  },
  {
   "cell_type": "code",
   "execution_count": 10,
   "id": "d8b6f526",
   "metadata": {},
   "outputs": [],
   "source": [
    "df_home = data['h']"
   ]
  },
  {
   "cell_type": "code",
   "execution_count": 11,
   "id": "c608d3f1",
   "metadata": {},
   "outputs": [
    {
     "data": {
      "text/plain": [
       "[{'id': '92307',\n",
       "  'minute': '6',\n",
       "  'result': 'MissedShots',\n",
       "  'X': '0.759000015258789',\n",
       "  'Y': '0.4209999847412109',\n",
       "  'xG': '0.02283162996172905',\n",
       "  'player': 'Paco Alcácer',\n",
       "  'h_a': 'h',\n",
       "  'player_id': '2380',\n",
       "  'situation': 'OpenPlay',\n",
       "  'season': '2015',\n",
       "  'shotType': 'RightFoot',\n",
       "  'match_id': '1769',\n",
       "  'h_team': 'Valencia',\n",
       "  'a_team': 'Real Sociedad',\n",
       "  'h_goals': '0',\n",
       "  'a_goals': '1',\n",
       "  'date': '2016-05-13 22:30:00',\n",
       "  'player_assisted': 'André Gomes',\n",
       "  'lastAction': 'TakeOn'},\n",
       " {'id': '92310',\n",
       "  'minute': '19',\n",
       "  'result': 'MissedShots',\n",
       "  'X': '0.8859999847412109',\n",
       "  'Y': '0.745',\n",
       "  'xG': '0.03307092562317848',\n",
       "  'player': 'Pablo Piatti',\n",
       "  'h_a': 'h',\n",
       "  'player_id': '2382',\n",
       "  'situation': 'OpenPlay',\n",
       "  'season': '2015',\n",
       "  'shotType': 'LeftFoot',\n",
       "  'match_id': '1769',\n",
       "  'h_team': 'Valencia',\n",
       "  'a_team': 'Real Sociedad',\n",
       "  'h_goals': '0',\n",
       "  'a_goals': '1',\n",
       "  'date': '2016-05-13 22:30:00',\n",
       "  'player_assisted': 'Danilo',\n",
       "  'lastAction': 'Pass'},\n",
       " {'id': '92312',\n",
       "  'minute': '46',\n",
       "  'result': 'MissedShots',\n",
       "  'X': '0.9469999694824218',\n",
       "  'Y': '0.524000015258789',\n",
       "  'xG': '0.13465948402881622',\n",
       "  'player': 'Aderlan Santos',\n",
       "  'h_a': 'h',\n",
       "  'player_id': '2474',\n",
       "  'situation': 'FromCorner',\n",
       "  'season': '2015',\n",
       "  'shotType': 'Head',\n",
       "  'match_id': '1769',\n",
       "  'h_team': 'Valencia',\n",
       "  'a_team': 'Real Sociedad',\n",
       "  'h_goals': '0',\n",
       "  'a_goals': '1',\n",
       "  'date': '2016-05-13 22:30:00',\n",
       "  'player_assisted': 'Daniel Parejo',\n",
       "  'lastAction': 'Cross'},\n",
       " {'id': '92318',\n",
       "  'minute': '72',\n",
       "  'result': 'MissedShots',\n",
       "  'X': '0.889000015258789',\n",
       "  'Y': '0.6509999847412109',\n",
       "  'xG': '0.27025943994522095',\n",
       "  'player': 'Santi Mina',\n",
       "  'h_a': 'h',\n",
       "  'player_id': '2384',\n",
       "  'situation': 'OpenPlay',\n",
       "  'season': '2015',\n",
       "  'shotType': 'LeftFoot',\n",
       "  'match_id': '1769',\n",
       "  'h_team': 'Valencia',\n",
       "  'a_team': 'Real Sociedad',\n",
       "  'h_goals': '0',\n",
       "  'a_goals': '1',\n",
       "  'date': '2016-05-13 22:30:00',\n",
       "  'player_assisted': 'André Gomes',\n",
       "  'lastAction': 'TakeOn'},\n",
       " {'id': '92319',\n",
       "  'minute': '76',\n",
       "  'result': 'MissedShots',\n",
       "  'X': '0.7230000305175781',\n",
       "  'Y': '0.41200000762939454',\n",
       "  'xG': '0.021662477403879166',\n",
       "  'player': 'André Gomes',\n",
       "  'h_a': 'h',\n",
       "  'player_id': '2383',\n",
       "  'situation': 'OpenPlay',\n",
       "  'season': '2015',\n",
       "  'shotType': 'RightFoot',\n",
       "  'match_id': '1769',\n",
       "  'h_team': 'Valencia',\n",
       "  'a_team': 'Real Sociedad',\n",
       "  'h_goals': '0',\n",
       "  'a_goals': '1',\n",
       "  'date': '2016-05-13 22:30:00',\n",
       "  'player_assisted': 'Danilo',\n",
       "  'lastAction': 'Pass'},\n",
       " {'id': '92321',\n",
       "  'minute': '82',\n",
       "  'result': 'MissedShots',\n",
       "  'X': '0.7340000152587891',\n",
       "  'Y': '0.5159999847412109',\n",
       "  'xG': '0.02052423357963562',\n",
       "  'player': 'Daniel Parejo',\n",
       "  'h_a': 'h',\n",
       "  'player_id': '2378',\n",
       "  'situation': 'OpenPlay',\n",
       "  'season': '2015',\n",
       "  'shotType': 'RightFoot',\n",
       "  'match_id': '1769',\n",
       "  'h_team': 'Valencia',\n",
       "  'a_team': 'Real Sociedad',\n",
       "  'h_goals': '0',\n",
       "  'a_goals': '1',\n",
       "  'date': '2016-05-13 22:30:00',\n",
       "  'player_assisted': 'Paco Alcácer',\n",
       "  'lastAction': 'Pass'},\n",
       " {'id': '92325',\n",
       "  'minute': '89',\n",
       "  'result': 'MissedShots',\n",
       "  'X': '0.845999984741211',\n",
       "  'Y': '0.4909999847412109',\n",
       "  'xG': '0.023162104189395905',\n",
       "  'player': 'Álvaro Negredo',\n",
       "  'h_a': 'h',\n",
       "  'player_id': '1715',\n",
       "  'situation': 'OpenPlay',\n",
       "  'season': '2015',\n",
       "  'shotType': 'Head',\n",
       "  'match_id': '1769',\n",
       "  'h_team': 'Valencia',\n",
       "  'a_team': 'Real Sociedad',\n",
       "  'h_goals': '0',\n",
       "  'a_goals': '1',\n",
       "  'date': '2016-05-13 22:30:00',\n",
       "  'player_assisted': None,\n",
       "  'lastAction': 'None'},\n",
       " {'id': '92326',\n",
       "  'minute': '90',\n",
       "  'result': 'MissedShots',\n",
       "  'X': '0.87',\n",
       "  'Y': '0.5459999847412109',\n",
       "  'xG': '0.39202314615249634',\n",
       "  'player': 'Álvaro Negredo',\n",
       "  'h_a': 'h',\n",
       "  'player_id': '1715',\n",
       "  'situation': 'OpenPlay',\n",
       "  'season': '2015',\n",
       "  'shotType': 'LeftFoot',\n",
       "  'match_id': '1769',\n",
       "  'h_team': 'Valencia',\n",
       "  'a_team': 'Real Sociedad',\n",
       "  'h_goals': '0',\n",
       "  'a_goals': '1',\n",
       "  'date': '2016-05-13 22:30:00',\n",
       "  'player_assisted': 'Paco Alcácer',\n",
       "  'lastAction': 'Pass'}]"
      ]
     },
     "execution_count": 11,
     "metadata": {},
     "output_type": "execute_result"
    }
   ],
   "source": [
    "df_home"
   ]
  },
  {
   "cell_type": "code",
   "execution_count": 12,
   "id": "77ba8d6b",
   "metadata": {},
   "outputs": [],
   "source": [
    "df_away = data['a']"
   ]
  },
  {
   "cell_type": "code",
   "execution_count": 13,
   "id": "e9a53078",
   "metadata": {},
   "outputs": [],
   "source": [
    "X =[]\n",
    "y =[]\n",
    "xG =[]\n",
    "team = []\n",
    "\n",
    "for index in range(len(df_home)):\n",
    "    for key in df_home[index]:\n",
    "        if key =='X':\n",
    "            X.append(df_home[index][key])\n",
    "        if key =='Y':\n",
    "            y.append(df_home[index][key])\n",
    "        if key=='xG':\n",
    "            xG.append(df_home[index][key])\n",
    "        if key=='h_team':\n",
    "            team.append(df_home[index][key])\n",
    "for index in range(len(df_away)):\n",
    "    for key in df_away[index]:\n",
    "        if key =='X':\n",
    "            X.append(df_away[index][key])\n",
    "        if key =='Y':\n",
    "            y.append(df_away[index][key])\n",
    "        if key=='xG':\n",
    "            xG.append(df_away[index][key])\n",
    "        if key=='a_team':\n",
    "            team.append(df_away[index][key])"
   ]
  },
  {
   "cell_type": "code",
   "execution_count": 14,
   "id": "054f9001",
   "metadata": {},
   "outputs": [],
   "source": [
    "col_names = ['X', 'Y', 'xG', 'team']\n",
    "df = pd.DataFrame([X,y,xG,team], index = col_names)"
   ]
  },
  {
   "cell_type": "code",
   "execution_count": 20,
   "id": "423e5299",
   "metadata": {},
   "outputs": [
    {
     "data": {
      "text/plain": [
       "(['0.759000015258789',\n",
       "  '0.8859999847412109',\n",
       "  '0.9469999694824218',\n",
       "  '0.889000015258789',\n",
       "  '0.7230000305175781',\n",
       "  '0.7340000152587891',\n",
       "  '0.845999984741211',\n",
       "  '0.87',\n",
       "  '0.9580000305175781',\n",
       "  '0.6819999694824219',\n",
       "  '0.6790000152587891',\n",
       "  '0.7190000152587891',\n",
       "  '0.9230000305175782',\n",
       "  '0.9159999847412109',\n",
       "  '0.805',\n",
       "  '0.899000015258789',\n",
       "  '0.8159999847412109',\n",
       "  '0.7619999694824219',\n",
       "  '0.740999984741211',\n",
       "  '0.960999984741211',\n",
       "  '0.875999984741211',\n",
       "  '0.92'],\n",
       " ['0.4209999847412109',\n",
       "  '0.745',\n",
       "  '0.524000015258789',\n",
       "  '0.6509999847412109',\n",
       "  '0.41200000762939454',\n",
       "  '0.5159999847412109',\n",
       "  '0.4909999847412109',\n",
       "  '0.5459999847412109',\n",
       "  '0.3609999847412109',\n",
       "  '0.38299999237060545',\n",
       "  '0.5720000076293945',\n",
       "  '0.7830000305175782',\n",
       "  '0.285',\n",
       "  '0.47200000762939454',\n",
       "  '0.6790000152587891',\n",
       "  '0.305',\n",
       "  '0.3320000076293945',\n",
       "  '0.32799999237060545',\n",
       "  '0.5520000076293945',\n",
       "  '0.5940000152587891',\n",
       "  '0.40599998474121096',\n",
       "  '0.45799999237060546'])"
      ]
     },
     "execution_count": 20,
     "metadata": {},
     "output_type": "execute_result"
    }
   ],
   "source": [
    "X, y"
   ]
  },
  {
   "cell_type": "code",
   "execution_count": 15,
   "id": "00ff26ff",
   "metadata": {},
   "outputs": [],
   "source": [
    "df = df.T"
   ]
  },
  {
   "cell_type": "code",
   "execution_count": 16,
   "id": "065375d6",
   "metadata": {},
   "outputs": [
    {
     "data": {
      "text/html": [
       "<div>\n",
       "<style scoped>\n",
       "    .dataframe tbody tr th:only-of-type {\n",
       "        vertical-align: middle;\n",
       "    }\n",
       "\n",
       "    .dataframe tbody tr th {\n",
       "        vertical-align: top;\n",
       "    }\n",
       "\n",
       "    .dataframe thead th {\n",
       "        text-align: right;\n",
       "    }\n",
       "</style>\n",
       "<table border=\"1\" class=\"dataframe\">\n",
       "  <thead>\n",
       "    <tr style=\"text-align: right;\">\n",
       "      <th></th>\n",
       "      <th>X</th>\n",
       "      <th>Y</th>\n",
       "      <th>xG</th>\n",
       "      <th>team</th>\n",
       "    </tr>\n",
       "  </thead>\n",
       "  <tbody>\n",
       "    <tr>\n",
       "      <th>0</th>\n",
       "      <td>0.759000015258789</td>\n",
       "      <td>0.4209999847412109</td>\n",
       "      <td>0.02283162996172905</td>\n",
       "      <td>Valencia</td>\n",
       "    </tr>\n",
       "    <tr>\n",
       "      <th>1</th>\n",
       "      <td>0.8859999847412109</td>\n",
       "      <td>0.745</td>\n",
       "      <td>0.03307092562317848</td>\n",
       "      <td>Valencia</td>\n",
       "    </tr>\n",
       "    <tr>\n",
       "      <th>2</th>\n",
       "      <td>0.9469999694824218</td>\n",
       "      <td>0.524000015258789</td>\n",
       "      <td>0.13465948402881622</td>\n",
       "      <td>Valencia</td>\n",
       "    </tr>\n",
       "    <tr>\n",
       "      <th>3</th>\n",
       "      <td>0.889000015258789</td>\n",
       "      <td>0.6509999847412109</td>\n",
       "      <td>0.27025943994522095</td>\n",
       "      <td>Valencia</td>\n",
       "    </tr>\n",
       "    <tr>\n",
       "      <th>4</th>\n",
       "      <td>0.7230000305175781</td>\n",
       "      <td>0.41200000762939454</td>\n",
       "      <td>0.021662477403879166</td>\n",
       "      <td>Valencia</td>\n",
       "    </tr>\n",
       "    <tr>\n",
       "      <th>5</th>\n",
       "      <td>0.7340000152587891</td>\n",
       "      <td>0.5159999847412109</td>\n",
       "      <td>0.02052423357963562</td>\n",
       "      <td>Valencia</td>\n",
       "    </tr>\n",
       "    <tr>\n",
       "      <th>6</th>\n",
       "      <td>0.845999984741211</td>\n",
       "      <td>0.4909999847412109</td>\n",
       "      <td>0.023162104189395905</td>\n",
       "      <td>Valencia</td>\n",
       "    </tr>\n",
       "    <tr>\n",
       "      <th>7</th>\n",
       "      <td>0.87</td>\n",
       "      <td>0.5459999847412109</td>\n",
       "      <td>0.39202314615249634</td>\n",
       "      <td>Valencia</td>\n",
       "    </tr>\n",
       "    <tr>\n",
       "      <th>8</th>\n",
       "      <td>0.9580000305175781</td>\n",
       "      <td>0.3609999847412109</td>\n",
       "      <td>0.04115653410553932</td>\n",
       "      <td>Real Sociedad</td>\n",
       "    </tr>\n",
       "    <tr>\n",
       "      <th>9</th>\n",
       "      <td>0.6819999694824219</td>\n",
       "      <td>0.38299999237060545</td>\n",
       "      <td>0.011607177555561066</td>\n",
       "      <td>Real Sociedad</td>\n",
       "    </tr>\n",
       "    <tr>\n",
       "      <th>10</th>\n",
       "      <td>0.6790000152587891</td>\n",
       "      <td>0.5720000076293945</td>\n",
       "      <td>0.014613994397222996</td>\n",
       "      <td>Real Sociedad</td>\n",
       "    </tr>\n",
       "    <tr>\n",
       "      <th>11</th>\n",
       "      <td>0.7190000152587891</td>\n",
       "      <td>0.7830000305175782</td>\n",
       "      <td>0.013754037208855152</td>\n",
       "      <td>Real Sociedad</td>\n",
       "    </tr>\n",
       "    <tr>\n",
       "      <th>12</th>\n",
       "      <td>0.9230000305175782</td>\n",
       "      <td>0.285</td>\n",
       "      <td>0.04497773200273514</td>\n",
       "      <td>Real Sociedad</td>\n",
       "    </tr>\n",
       "    <tr>\n",
       "      <th>13</th>\n",
       "      <td>0.9159999847412109</td>\n",
       "      <td>0.47200000762939454</td>\n",
       "      <td>0.09917305409908295</td>\n",
       "      <td>Real Sociedad</td>\n",
       "    </tr>\n",
       "    <tr>\n",
       "      <th>14</th>\n",
       "      <td>0.805</td>\n",
       "      <td>0.6790000152587891</td>\n",
       "      <td>0.028342267498373985</td>\n",
       "      <td>Real Sociedad</td>\n",
       "    </tr>\n",
       "    <tr>\n",
       "      <th>15</th>\n",
       "      <td>0.899000015258789</td>\n",
       "      <td>0.305</td>\n",
       "      <td>0.045954782515764236</td>\n",
       "      <td>Real Sociedad</td>\n",
       "    </tr>\n",
       "    <tr>\n",
       "      <th>16</th>\n",
       "      <td>0.8159999847412109</td>\n",
       "      <td>0.3320000076293945</td>\n",
       "      <td>0.03209739178419113</td>\n",
       "      <td>Real Sociedad</td>\n",
       "    </tr>\n",
       "    <tr>\n",
       "      <th>17</th>\n",
       "      <td>0.7619999694824219</td>\n",
       "      <td>0.32799999237060545</td>\n",
       "      <td>0.02254064381122589</td>\n",
       "      <td>Real Sociedad</td>\n",
       "    </tr>\n",
       "    <tr>\n",
       "      <th>18</th>\n",
       "      <td>0.740999984741211</td>\n",
       "      <td>0.5520000076293945</td>\n",
       "      <td>0.06471602618694305</td>\n",
       "      <td>Real Sociedad</td>\n",
       "    </tr>\n",
       "    <tr>\n",
       "      <th>19</th>\n",
       "      <td>0.960999984741211</td>\n",
       "      <td>0.5940000152587891</td>\n",
       "      <td>0.10018923878669739</td>\n",
       "      <td>Real Sociedad</td>\n",
       "    </tr>\n",
       "    <tr>\n",
       "      <th>20</th>\n",
       "      <td>0.875999984741211</td>\n",
       "      <td>0.40599998474121096</td>\n",
       "      <td>0.3259061574935913</td>\n",
       "      <td>Real Sociedad</td>\n",
       "    </tr>\n",
       "    <tr>\n",
       "      <th>21</th>\n",
       "      <td>0.92</td>\n",
       "      <td>0.45799999237060546</td>\n",
       "      <td>0.10629066079854965</td>\n",
       "      <td>Real Sociedad</td>\n",
       "    </tr>\n",
       "  </tbody>\n",
       "</table>\n",
       "</div>"
      ],
      "text/plain": [
       "                     X                    Y                    xG  \\\n",
       "0    0.759000015258789   0.4209999847412109   0.02283162996172905   \n",
       "1   0.8859999847412109                0.745   0.03307092562317848   \n",
       "2   0.9469999694824218    0.524000015258789   0.13465948402881622   \n",
       "3    0.889000015258789   0.6509999847412109   0.27025943994522095   \n",
       "4   0.7230000305175781  0.41200000762939454  0.021662477403879166   \n",
       "5   0.7340000152587891   0.5159999847412109   0.02052423357963562   \n",
       "6    0.845999984741211   0.4909999847412109  0.023162104189395905   \n",
       "7                 0.87   0.5459999847412109   0.39202314615249634   \n",
       "8   0.9580000305175781   0.3609999847412109   0.04115653410553932   \n",
       "9   0.6819999694824219  0.38299999237060545  0.011607177555561066   \n",
       "10  0.6790000152587891   0.5720000076293945  0.014613994397222996   \n",
       "11  0.7190000152587891   0.7830000305175782  0.013754037208855152   \n",
       "12  0.9230000305175782                0.285   0.04497773200273514   \n",
       "13  0.9159999847412109  0.47200000762939454   0.09917305409908295   \n",
       "14               0.805   0.6790000152587891  0.028342267498373985   \n",
       "15   0.899000015258789                0.305  0.045954782515764236   \n",
       "16  0.8159999847412109   0.3320000076293945   0.03209739178419113   \n",
       "17  0.7619999694824219  0.32799999237060545   0.02254064381122589   \n",
       "18   0.740999984741211   0.5520000076293945   0.06471602618694305   \n",
       "19   0.960999984741211   0.5940000152587891   0.10018923878669739   \n",
       "20   0.875999984741211  0.40599998474121096    0.3259061574935913   \n",
       "21                0.92  0.45799999237060546   0.10629066079854965   \n",
       "\n",
       "             team  \n",
       "0        Valencia  \n",
       "1        Valencia  \n",
       "2        Valencia  \n",
       "3        Valencia  \n",
       "4        Valencia  \n",
       "5        Valencia  \n",
       "6        Valencia  \n",
       "7        Valencia  \n",
       "8   Real Sociedad  \n",
       "9   Real Sociedad  \n",
       "10  Real Sociedad  \n",
       "11  Real Sociedad  \n",
       "12  Real Sociedad  \n",
       "13  Real Sociedad  \n",
       "14  Real Sociedad  \n",
       "15  Real Sociedad  \n",
       "16  Real Sociedad  \n",
       "17  Real Sociedad  \n",
       "18  Real Sociedad  \n",
       "19  Real Sociedad  \n",
       "20  Real Sociedad  \n",
       "21  Real Sociedad  "
      ]
     },
     "execution_count": 16,
     "metadata": {},
     "output_type": "execute_result"
    }
   ],
   "source": [
    "df"
   ]
  },
  {
   "cell_type": "code",
   "execution_count": 27,
   "id": "61cede91",
   "metadata": {},
   "outputs": [],
   "source": [
    "### columns transformers\n",
    "df['X'] = df['X'].astype('float')\n",
    "df['Y'] = df['Y'].astype('float')\n",
    "df['xG'] = df['xG'].astype('float')"
   ]
  },
  {
   "cell_type": "code",
   "execution_count": 29,
   "id": "7d1768ea",
   "metadata": {},
   "outputs": [],
   "source": [
    "df['X_scaled'] = df['X'] * 120\n",
    "\n",
    "df ['Y_scaled'] = df['Y'] * 60"
   ]
  },
  {
   "cell_type": "code",
   "execution_count": 33,
   "id": "7000e8c8",
   "metadata": {},
   "outputs": [
    {
     "data": {
      "text/plain": [
       "str"
      ]
     },
     "execution_count": 33,
     "metadata": {},
     "output_type": "execute_result"
    }
   ],
   "source": [
    "type(X[0])"
   ]
  },
  {
   "cell_type": "code",
   "execution_count": 39,
   "id": "0a235fd5",
   "metadata": {},
   "outputs": [
    {
     "data": {
      "image/png": "[encoded data removed]",
      "text/plain": [
       "<Figure size 432x288 with 1 Axes>"
      ]
     },
     "metadata": {
      "needs_background": "light"
     },
     "output_type": "display_data"
    }
   ],
   "source": [
    "pitch = Pitch(pitch_color='grass', line_color='white', stripe=True, label = True)\n",
    "fig, ax = pitch.draw()\n",
    "pitch = pitch.arrows(df['X_scaled'][1], df ['Y_scaled'][1],df['X_scaled'][2], df ['Y_scaled'][2], ax=ax)\n",
    "#pitch.annotate(text='center', xytext=(50, 50), xy=(60, 40), ha='center', va='center', ax=ax, arrowprops=dict(facecolor='black'))\n",
    "plt.show()"
   ]
  },
  {
   "cell_type": "code",
   "execution_count": null,
   "id": "bd2c7370",
   "metadata": {},
   "outputs": [],
   "source": []
  }
 ],
 "metadata": {
  "kernelspec": {
   "display_name": "Python 3",
   "language": "python",
   "name": "python3"
  },
  "language_info": {
   "codemirror_mode": {
    "name": "ipython",
    "version": 3
   },
   "file_extension": ".py",
   "mimetype": "text/x-python",
   "name": "python",
   "nbconvert_exporter": "python",
   "pygments_lexer": "ipython3",
   "version": "3.8.6"
  },
  "toc": {
   "base_numbering": 1,
   "nav_menu": {},
   "number_sections": true,
   "sideBar": true,
   "skip_h1_title": false,
   "title_cell": "Table of Contents",
   "title_sidebar": "Contents",
   "toc_cell": false,
   "toc_position": {},
   "toc_section_display": true,
   "toc_window_display": false
  }
 },
 "nbformat": 4,
 "nbformat_minor": 5
}
