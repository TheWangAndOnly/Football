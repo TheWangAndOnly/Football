{
 "cells": [
  {
   "cell_type": "markdown",
   "id": "ffef97da",
   "metadata": {},
   "source": [
    "# Manchester United 2020-2021 PL Season Summary"
   ]
  },
  {
   "cell_type": "code",
   "execution_count": 1,
   "id": "e678c4d1",
   "metadata": {},
   "outputs": [],
   "source": [
    "import pandas as pd \n",
    "import numpy as np\n",
    "import seaborn as sns \n",
    "import matplotlib.pyplot as plt"
   ]
  },
  {
   "cell_type": "code",
   "execution_count": 2,
   "id": "f1a8e38a",
   "metadata": {},
   "outputs": [],
   "source": [
    "data = pd.read_csv('/Users/weiyiwang/code/TheWangAndOnly/Football/Data/MU_PL20-21.csv')"
   ]
  },
  {
   "cell_type": "code",
   "execution_count": 3,
   "id": "5cc93ffc",
   "metadata": {},
   "outputs": [
    {
     "data": {
      "text/html": [
       "<div>\n",
       "<style scoped>\n",
       "    .dataframe tbody tr th:only-of-type {\n",
       "        vertical-align: middle;\n",
       "    }\n",
       "\n",
       "    .dataframe tbody tr th {\n",
       "        vertical-align: top;\n",
       "    }\n",
       "\n",
       "    .dataframe thead th {\n",
       "        text-align: right;\n",
       "    }\n",
       "</style>\n",
       "<table border=\"1\" class=\"dataframe\">\n",
       "  <thead>\n",
       "    <tr style=\"text-align: right;\">\n",
       "      <th></th>\n",
       "      <th>Player</th>\n",
       "      <th>Nation</th>\n",
       "      <th>Pos</th>\n",
       "      <th>Age</th>\n",
       "      <th>MP</th>\n",
       "      <th>Starts</th>\n",
       "      <th>Min</th>\n",
       "      <th>90s</th>\n",
       "      <th>Goals</th>\n",
       "      <th>Ast</th>\n",
       "      <th>...</th>\n",
       "      <th>G+A-PK/90</th>\n",
       "      <th>xG</th>\n",
       "      <th>npxG</th>\n",
       "      <th>xA</th>\n",
       "      <th>npxG+xA</th>\n",
       "      <th>xG/90</th>\n",
       "      <th>xA/90</th>\n",
       "      <th>xG+xA/90</th>\n",
       "      <th>npxG/90</th>\n",
       "      <th>npxG+xA/90</th>\n",
       "    </tr>\n",
       "  </thead>\n",
       "  <tbody>\n",
       "    <tr>\n",
       "      <th>0</th>\n",
       "      <td>Bruno Fernandes\\Bruno-Fernandes</td>\n",
       "      <td>pt POR</td>\n",
       "      <td>MF</td>\n",
       "      <td>25.0</td>\n",
       "      <td>37</td>\n",
       "      <td>35</td>\n",
       "      <td>3099.0</td>\n",
       "      <td>34.4</td>\n",
       "      <td>18.0</td>\n",
       "      <td>12.0</td>\n",
       "      <td>...</td>\n",
       "      <td>0.61</td>\n",
       "      <td>15.4</td>\n",
       "      <td>7.8</td>\n",
       "      <td>11.0</td>\n",
       "      <td>18.8</td>\n",
       "      <td>0.45</td>\n",
       "      <td>0.32</td>\n",
       "      <td>0.77</td>\n",
       "      <td>0.23</td>\n",
       "      <td>0.55</td>\n",
       "    </tr>\n",
       "    <tr>\n",
       "      <th>1</th>\n",
       "      <td>Aaron Wan-Bissaka\\Aaron-Wan-Bissaka</td>\n",
       "      <td>eng ENG</td>\n",
       "      <td>DF</td>\n",
       "      <td>22.0</td>\n",
       "      <td>34</td>\n",
       "      <td>34</td>\n",
       "      <td>3060.0</td>\n",
       "      <td>34.0</td>\n",
       "      <td>2.0</td>\n",
       "      <td>4.0</td>\n",
       "      <td>...</td>\n",
       "      <td>0.18</td>\n",
       "      <td>0.9</td>\n",
       "      <td>0.9</td>\n",
       "      <td>2.4</td>\n",
       "      <td>3.3</td>\n",
       "      <td>0.03</td>\n",
       "      <td>0.07</td>\n",
       "      <td>0.10</td>\n",
       "      <td>0.03</td>\n",
       "      <td>0.10</td>\n",
       "    </tr>\n",
       "    <tr>\n",
       "      <th>2</th>\n",
       "      <td>Harry Maguire\\Harry-Maguire</td>\n",
       "      <td>eng ENG</td>\n",
       "      <td>DF</td>\n",
       "      <td>27.0</td>\n",
       "      <td>34</td>\n",
       "      <td>34</td>\n",
       "      <td>3047.0</td>\n",
       "      <td>33.9</td>\n",
       "      <td>2.0</td>\n",
       "      <td>1.0</td>\n",
       "      <td>...</td>\n",
       "      <td>0.09</td>\n",
       "      <td>2.1</td>\n",
       "      <td>2.1</td>\n",
       "      <td>0.3</td>\n",
       "      <td>2.4</td>\n",
       "      <td>0.06</td>\n",
       "      <td>0.01</td>\n",
       "      <td>0.07</td>\n",
       "      <td>0.06</td>\n",
       "      <td>0.07</td>\n",
       "    </tr>\n",
       "    <tr>\n",
       "      <th>3</th>\n",
       "      <td>Marcus Rashford\\Marcus-Rashford</td>\n",
       "      <td>eng ENG</td>\n",
       "      <td>FW</td>\n",
       "      <td>22.0</td>\n",
       "      <td>37</td>\n",
       "      <td>33</td>\n",
       "      <td>2920.0</td>\n",
       "      <td>32.4</td>\n",
       "      <td>11.0</td>\n",
       "      <td>9.0</td>\n",
       "      <td>...</td>\n",
       "      <td>0.62</td>\n",
       "      <td>9.3</td>\n",
       "      <td>9.3</td>\n",
       "      <td>3.6</td>\n",
       "      <td>12.9</td>\n",
       "      <td>0.29</td>\n",
       "      <td>0.11</td>\n",
       "      <td>0.40</td>\n",
       "      <td>0.29</td>\n",
       "      <td>0.40</td>\n",
       "    </tr>\n",
       "    <tr>\n",
       "      <th>4</th>\n",
       "      <td>Luke Shaw\\Luke-Shaw</td>\n",
       "      <td>eng ENG</td>\n",
       "      <td>DF</td>\n",
       "      <td>25.0</td>\n",
       "      <td>32</td>\n",
       "      <td>30</td>\n",
       "      <td>2654.0</td>\n",
       "      <td>29.5</td>\n",
       "      <td>1.0</td>\n",
       "      <td>5.0</td>\n",
       "      <td>...</td>\n",
       "      <td>0.20</td>\n",
       "      <td>0.7</td>\n",
       "      <td>0.7</td>\n",
       "      <td>5.2</td>\n",
       "      <td>5.9</td>\n",
       "      <td>0.02</td>\n",
       "      <td>0.18</td>\n",
       "      <td>0.20</td>\n",
       "      <td>0.02</td>\n",
       "      <td>0.20</td>\n",
       "    </tr>\n",
       "  </tbody>\n",
       "</table>\n",
       "<p>5 rows × 29 columns</p>\n",
       "</div>"
      ],
      "text/plain": [
       "                                Player   Nation Pos   Age  MP  Starts     Min  \\\n",
       "0      Bruno Fernandes\\Bruno-Fernandes   pt POR  MF  25.0  37      35  3099.0   \n",
       "1  Aaron Wan-Bissaka\\Aaron-Wan-Bissaka  eng ENG  DF  22.0  34      34  3060.0   \n",
       "2          Harry Maguire\\Harry-Maguire  eng ENG  DF  27.0  34      34  3047.0   \n",
       "3      Marcus Rashford\\Marcus-Rashford  eng ENG  FW  22.0  37      33  2920.0   \n",
       "4                  Luke Shaw\\Luke-Shaw  eng ENG  DF  25.0  32      30  2654.0   \n",
       "\n",
       "    90s  Goals   Ast  ...  G+A-PK/90    xG  npxG    xA  npxG+xA  xG/90  xA/90  \\\n",
       "0  34.4   18.0  12.0  ...       0.61  15.4   7.8  11.0     18.8   0.45   0.32   \n",
       "1  34.0    2.0   4.0  ...       0.18   0.9   0.9   2.4      3.3   0.03   0.07   \n",
       "2  33.9    2.0   1.0  ...       0.09   2.1   2.1   0.3      2.4   0.06   0.01   \n",
       "3  32.4   11.0   9.0  ...       0.62   9.3   9.3   3.6     12.9   0.29   0.11   \n",
       "4  29.5    1.0   5.0  ...       0.20   0.7   0.7   5.2      5.9   0.02   0.18   \n",
       "\n",
       "   xG+xA/90  npxG/90  npxG+xA/90  \n",
       "0      0.77     0.23        0.55  \n",
       "1      0.10     0.03        0.10  \n",
       "2      0.07     0.06        0.07  \n",
       "3      0.40     0.29        0.40  \n",
       "4      0.20     0.02        0.20  \n",
       "\n",
       "[5 rows x 29 columns]"
      ]
     },
     "execution_count": 3,
     "metadata": {},
     "output_type": "execute_result"
    }
   ],
   "source": [
    "data.head()"
   ]
  },
  {
   "cell_type": "code",
   "execution_count": 7,
   "id": "f843bf11",
   "metadata": {},
   "outputs": [
    {
     "data": {
      "text/plain": [
       "<AxesSubplot:xlabel='xG', ylabel='Count'>"
      ]
     },
     "execution_count": 7,
     "metadata": {},
     "output_type": "execute_result"
    },
    {
     "data": {
      "image/png": "[encoded data removed]",
      "text/plain": [
       "<Figure size 432x288 with 1 Axes>"
      ]
     },
     "metadata": {
      "needs_background": "light"
     },
     "output_type": "display_data"
    }
   ],
   "source": [
    "sns.histplot(data['xG'])"
   ]
  },
  {
   "cell_type": "code",
   "execution_count": null,
   "id": "6debbcf2",
   "metadata": {},
   "outputs": [],
   "source": []
  },
  {
   "cell_type": "code",
   "execution_count": null,
   "id": "1f45f05d",
   "metadata": {},
   "outputs": [],
   "source": []
  },
  {
   "cell_type": "code",
   "execution_count": null,
   "id": "118487a9",
   "metadata": {},
   "outputs": [],
   "source": []
  }
 ],
 "metadata": {
  "kernelspec": {
   "display_name": "Python 3",
   "language": "python",
   "name": "python3"
  },
  "language_info": {
   "codemirror_mode": {
    "name": "ipython",
    "version": 3
   },
   "file_extension": ".py",
   "mimetype": "text/x-python",
   "name": "python",
   "nbconvert_exporter": "python",
   "pygments_lexer": "ipython3",
   "version": "3.8.6"
  },
  "toc": {
   "base_numbering": 1,
   "nav_menu": {},
   "number_sections": true,
   "sideBar": true,
   "skip_h1_title": false,
   "title_cell": "Table of Contents",
   "title_sidebar": "Contents",
   "toc_cell": false,
   "toc_position": {},
   "toc_section_display": true,
   "toc_window_display": false
  }
 },
 "nbformat": 4,
 "nbformat_minor": 5
}
