{
 "cells": [
  {
   "cell_type": "markdown",
   "id": "ffef97da",
   "metadata": {},
   "source": [
    "# Manchester United 2020-2021 PL Season Summary"
   ]
  },
  {
   "cell_type": "code",
   "execution_count": 1,
   "id": "e678c4d1",
   "metadata": {},
   "outputs": [],
   "source": [
    "import pandas as pd \n",
    "import numpy as np\n",
    "import seaborn as sns \n",
    "import matplotlib.pyplot as plt\n",
    "from mplsoccer import Pitch"
   ]
  },
  {
   "cell_type": "code",
   "execution_count": 2,
   "id": "f1a8e38a",
   "metadata": {},
   "outputs": [],
   "source": [
    "data = pd.read_csv('../Data/Clubs/MU_PL20-21.csv')"
   ]
  },
  {
   "cell_type": "code",
   "execution_count": null,
   "id": "71ee6e49",
   "metadata": {},
   "outputs": [],
   "source": [
    "pitch = Pitch()\n",
    "pitch.draw()"
   ]
  },
  {
   "cell_type": "code",
   "execution_count": null,
   "id": "5cc93ffc",
   "metadata": {},
   "outputs": [],
   "source": [
    "data.shape"
   ]
  },
  {
   "cell_type": "code",
   "execution_count": 10,
   "id": "5a4afafb",
   "metadata": {},
   "outputs": [
    {
     "data": {
      "text/plain": [
       "<AxesSubplot:>"
      ]
     },
     "execution_count": 10,
     "metadata": {},
     "output_type": "execute_result"
    },
    {
     "data": {
      "image/png": "[encoded data removed]",
      "text/plain": [
       "<Figure size 432x288 with 2 Axes>"
      ]
     },
     "metadata": {
      "needs_background": "light"
     },
     "output_type": "display_data"
    }
   ],
   "source": [
    "cols = data.columns\n",
    "sns.heatmap(data[cols].isnull())"
   ]
  },
  {
   "cell_type": "code",
   "execution_count": 3,
   "id": "9cb85d2a",
   "metadata": {},
   "outputs": [
    {
     "data": {
      "text/plain": [
       "0             [Bruno Fernandes, Bruno-Fernandes]\n",
       "1         [Aaron Wan-Bissaka, Aaron-Wan-Bissaka]\n",
       "2                 [Harry Maguire, Harry-Maguire]\n",
       "3             [Marcus Rashford, Marcus-Rashford]\n",
       "4                         [Luke Shaw, Luke-Shaw]\n",
       "5             [Victor Lindelöf, Victor-Lindelof]\n",
       "6                                   [Fred, Fred]\n",
       "7                   [David de Gea, David-de-Gea]\n",
       "8             [Scott McTominay, Scott-McTominay]\n",
       "9                       [Paul Pogba, Paul-Pogba]\n",
       "10            [Mason Greenwood, Mason-Greenwood]\n",
       "11            [Anthony Martial, Anthony-Martial]\n",
       "12              [Edinson Cavani, Edinson-Cavani]\n",
       "13              [Dean Henderson, Dean-Henderson]\n",
       "14                [Nemanja Matić, Nemanja-Matic]\n",
       "15                  [Daniel James, Daniel-James]\n",
       "16                    [Eric Bailly, Eric-Bailly]\n",
       "17                    [Alex Telles, Alex-Telles]\n",
       "18                        [Juan Mata, Juan-Mata]\n",
       "19        [Donny van de Beek, Donny-van-de-Beek]\n",
       "20                [Axel Tuanzebe, Axel-Tuanzebe]\n",
       "21          [Brandon Williams, Brandon-Williams]\n",
       "22                    [Amad Diallo, Amad-Diallo]\n",
       "23              [Anthony Elanga, Anthony-Elanga]\n",
       "24    [Timothy Fosu-Mensah, Timothy-Fosu-Mensah]\n",
       "25            [Shola Shoretire, Shola-Shoretire]\n",
       "26                  [Odion Ighalo, Odion-Ighalo]\n",
       "27            [Hannibal Mejbri, Hannibal-Mejbri]\n",
       "28    [William Thomas Fish, William-Thomas-Fish]\n",
       "29                [Nathan Bishop, Nathan-Bishop]\n",
       "30                        [Lee Grant, Lee-Grant]\n",
       "31                [Jesse Lingard, Jesse-Lingard]\n",
       "32                                 [Squad Total]\n",
       "33                              [Opponent Total]\n",
       "Name: Player, dtype: object"
      ]
     },
     "execution_count": 3,
     "metadata": {},
     "output_type": "execute_result"
    }
   ],
   "source": [
    "data['Player'].str.split('\\\\')"
   ]
  },
  {
   "cell_type": "code",
   "execution_count": 9,
   "id": "57ef9f6b",
   "metadata": {},
   "outputs": [
    {
     "data": {
      "text/plain": [
       "'Bruno Fernandes\\\\Bruno-Fernandes'"
      ]
     },
     "execution_count": 9,
     "metadata": {},
     "output_type": "execute_result"
    }
   ],
   "source": [
    "data['Player'].iloc[0]"
   ]
  },
  {
   "cell_type": "code",
   "execution_count": null,
   "id": "4abaefc2",
   "metadata": {},
   "outputs": [],
   "source": [
    "def player_column_transformer(data, **kwargs):\n",
    "    \n",
    "    for i in range(0,data.shape[0]):\n",
    "        data['Player'] = data['Player'].iloc[i][0]"
   ]
  },
  {
   "cell_type": "code",
   "execution_count": null,
   "id": "c6bc272f",
   "metadata": {},
   "outputs": [],
   "source": [
    "data['Player'].apply(player_column_transformer(data))"
   ]
  },
  {
   "cell_type": "code",
   "execution_count": null,
   "id": "f843bf11",
   "metadata": {},
   "outputs": [],
   "source": [
    "sns.histplot(data['xG'])"
   ]
  },
  {
   "cell_type": "code",
   "execution_count": null,
   "id": "6debbcf2",
   "metadata": {},
   "outputs": [],
   "source": []
  },
  {
   "cell_type": "code",
   "execution_count": null,
   "id": "1f45f05d",
   "metadata": {},
   "outputs": [],
   "source": []
  },
  {
   "cell_type": "code",
   "execution_count": null,
   "id": "118487a9",
   "metadata": {},
   "outputs": [],
   "source": []
  }
 ],
 "metadata": {
  "kernelspec": {
   "display_name": "Python 3",
   "language": "python",
   "name": "python3"
  },
  "language_info": {
   "codemirror_mode": {
    "name": "ipython",
    "version": 3
   },
   "file_extension": ".py",
   "mimetype": "text/x-python",
   "name": "python",
   "nbconvert_exporter": "python",
   "pygments_lexer": "ipython3",
   "version": "3.8.6"
  },
  "toc": {
   "base_numbering": 1,
   "nav_menu": {},
   "number_sections": true,
   "sideBar": true,
   "skip_h1_title": false,
   "title_cell": "Table of Contents",
   "title_sidebar": "Contents",
   "toc_cell": false,
   "toc_position": {},
   "toc_section_display": true,
   "toc_window_display": false
  }
 },
 "nbformat": 4,
 "nbformat_minor": 5
}
